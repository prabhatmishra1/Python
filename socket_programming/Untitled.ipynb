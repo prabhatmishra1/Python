{
 "cells": [
  {
   "cell_type": "code",
   "execution_count": 2,
   "id": "8f0e845f",
   "metadata": {},
   "outputs": [],
   "source": [
    "resp = {\n",
    "    \"resourceType\": \"Bundle\",\n",
    "    \"id\": \"d37daa79-7a63-446d-8f1c-26cec65b1053\",\n",
    "    \"meta\": {\n",
    "        \"lastUpdated\": \"2021-12-23T00:00:07.970-08:00\"\n",
    "    },\n",
    "    \"type\": \"searchset\",\n",
    "    \"total\": 1,\n",
    "    \"link\": [\n",
    "        {\n",
    "            \"relation\": \"self\",\n",
    "            \"url\": \"https://dev-fhir.nems.org/r4/Patient?identifier=http%3A%2F%2Fnems.org%2Fns%2Fpatient%2Fmrn%7C1084841\"\n",
    "        }\n",
    "    ],\n",
    "    \"entry\": [\n",
    "        {\n",
    "            \"fullUrl\": \"https://dev-fhir.nems.org/r4/Patient/2369\",\n",
    "            \"resource\": {\n",
    "                \"resourceType\": \"Patient\",\n",
    "                \"id\": \"2369\",\n",
    "                \"meta\": {\n",
    "                    \"versionId\": \"1\",\n",
    "                    \"lastUpdated\": \"2021-06-24T11:18:03.353-07:00\"\n",
    "                },\n",
    "                \"extension\": [\n",
    "                    {\n",
    "                        \"url\": \"http://hl7.org/fhir/StructureDefinition/patient-birthTime\",\n",
    "                        \"valueDateTime\": \"2001-01-01\"\n",
    "                    }\n",
    "                ],\n",
    "                \"identifier\": [\n",
    "                    {\n",
    "                        \"use\": \"official\",\n",
    "                        \"type\": {\n",
    "                            \"coding\": [\n",
    "                                {\n",
    "                                    \"system\": \"http://hl7.org/fhir/v2/0203\",\n",
    "                                    \"code\": \"MR\"\n",
    "                                }\n",
    "                            ]\n",
    "                        },\n",
    "                        \"system\": \"http://nems.org/ns/patient/mrn\",\n",
    "                        \"value\": \"1084841\"\n",
    "                    },\n",
    "                    {\n",
    "                        \"use\": \"secondary\",\n",
    "                        \"type\": {\n",
    "                            \"coding\": [\n",
    "                                {\n",
    "                                    \"system\": \"http://hl7.org/fhir/v2/0203\",\n",
    "                                    \"code\": \"PI\"\n",
    "                                }\n",
    "                            ]\n",
    "                        },\n",
    "                        \"system\": \"http://nems.org/ns/patient/PI\",\n",
    "                        \"value\": \"d908181a-573d-4699-b317-6acb5994c1fb\"\n",
    "                    },\n",
    "                    {\n",
    "                        \"use\": \"secondary\",\n",
    "                        \"type\": {\n",
    "                            \"coding\": [\n",
    "                                {\n",
    "                                    \"system\": \"http://hl7.org/fhir/v2/0203\",\n",
    "                                    \"code\": \"PN\"\n",
    "                                }\n",
    "                            ]\n",
    "                        },\n",
    "                        \"system\": \"http://nems.org/ns/patient/PN\",\n",
    "                        \"value\": \"313242\"\n",
    "                    }\n",
    "                ],\n",
    "                \"name\": [\n",
    "                    {\n",
    "                        \"family\": \"Test\",\n",
    "                        \"given\": [\n",
    "                            \"Devpt\"\n",
    "                        ]\n",
    "                    }\n",
    "                ],\n",
    "                \"telecom\": [\n",
    "                    {\n",
    "                        \"system\": \"email\",\n",
    "                        \"value\": \"son.lai@nems.org\",\n",
    "                        \"use\": \"home\"\n",
    "                    }\n",
    "                ],\n",
    "                \"gender\": \"male\",\n",
    "                \"birthDate\": \"2001-01-01\",\n",
    "                \"deceasedBoolean\": False,\n",
    "                \"address\": [\n",
    "                    {\n",
    "                        \"line\": [\n",
    "                            \"123 Main Street\"\n",
    "                        ],\n",
    "                        \"city\": \"San Francisco\",\n",
    "                        \"state\": \"AS\",\n",
    "                        \"postalCode\": \"94111\"\n",
    "                    }\n",
    "                ],\n",
    "                \"communication\": [\n",
    "                    {\n",
    "                        \"language\": {\n",
    "                            \"coding\": [\n",
    "                                {\n",
    "                                    \"system\": \"Mandarin\",\n",
    "                                    \"code\": \"0b1d2199-bf7b-4105-8599-59df5e2ba018\",\n",
    "                                    \"display\": \"zho\"\n",
    "                                }\n",
    "                            ]\n",
    "                        }\n",
    "                    }\n",
    "                ]\n",
    "            },\n",
    "            \"search\": {\n",
    "                \"mode\": \"match\"\n",
    "            }\n",
    "        }\n",
    "    ]\n",
    "}"
   ]
  },
  {
   "cell_type": "code",
   "execution_count": 3,
   "id": "e50fb9a4",
   "metadata": {},
   "outputs": [
    {
     "data": {
      "text/plain": [
       "'son.lai@nems.org'"
      ]
     },
     "execution_count": 3,
     "metadata": {},
     "output_type": "execute_result"
    }
   ],
   "source": [
    "resp['entry'][0]['resource']['telecom'][0]['value']"
   ]
  },
  {
   "cell_type": "code",
   "execution_count": 13,
   "id": "12c513ed",
   "metadata": {},
   "outputs": [
    {
     "data": {
      "text/plain": [
       "'Devpt'"
      ]
     },
     "execution_count": 13,
     "metadata": {},
     "output_type": "execute_result"
    }
   ],
   "source": [
    "resp['entry'][0]['resource']['name'][0]['given'][0]"
   ]
  },
  {
   "cell_type": "code",
   "execution_count": 15,
   "id": "ffdaf988",
   "metadata": {},
   "outputs": [
    {
     "data": {
      "text/plain": [
       "'Test'"
      ]
     },
     "execution_count": 15,
     "metadata": {},
     "output_type": "execute_result"
    }
   ],
   "source": [
    "resp['entry'][0]['resource']['name'][0]['family']"
   ]
  },
  {
   "cell_type": "code",
   "execution_count": 28,
   "id": "a263724b",
   "metadata": {},
   "outputs": [
    {
     "data": {
      "text/plain": [
       "'1084841'"
      ]
     },
     "execution_count": 28,
     "metadata": {},
     "output_type": "execute_result"
    }
   ],
   "source": [
    "resp['entry'][0]['resource']['identifier'][0]['value']"
   ]
  },
  {
   "cell_type": "code",
   "execution_count": null,
   "id": "7739ad0d",
   "metadata": {},
   "outputs": [],
   "source": []
  }
 ],
 "metadata": {
  "kernelspec": {
   "display_name": "Python 3 (ipykernel)",
   "language": "python",
   "name": "python3"
  },
  "language_info": {
   "codemirror_mode": {
    "name": "ipython",
    "version": 3
   },
   "file_extension": ".py",
   "mimetype": "text/x-python",
   "name": "python",
   "nbconvert_exporter": "python",
   "pygments_lexer": "ipython3",
   "version": "3.7.9"
  }
 },
 "nbformat": 4,
 "nbformat_minor": 5
}
