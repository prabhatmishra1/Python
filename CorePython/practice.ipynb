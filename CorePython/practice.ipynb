{
 "cells": [
  {
   "cell_type": "markdown",
   "id": "be6193a1-acf5-40a8-8998-b960a1aca10e",
   "metadata": {},
   "source": [
    "Generator the fibnachi serise "
   ]
  },
  {
   "cell_type": "code",
   "execution_count": 22,
   "id": "f95a9aaf-5e33-4dbe-9110-33329a0031dd",
   "metadata": {},
   "outputs": [],
   "source": [
    "def generate_fib(n=5):\n",
    "    a, b = 0, 1\n",
    "\n",
    "    while n > 0:\n",
    "        yield a\n",
    "        a , b = b, a+b\n",
    "        n-=1"
   ]
  },
  {
   "cell_type": "code",
   "execution_count": 30,
   "id": "4ca77c65-162c-429e-a235-027ed73b85fd",
   "metadata": {},
   "outputs": [
    {
     "name": "stdout",
     "output_type": "stream",
     "text": [
      "0\n",
      "1\n",
      "1\n",
      "2\n"
     ]
    }
   ],
   "source": [
    "output =  generate_fib(n=10)\n",
    "print(next(output))\n",
    "print(next(output))\n",
    "print(next(output))\n",
    "print(next(output))"
   ]
  },
  {
   "cell_type": "code",
   "execution_count": 44,
   "id": "824349d4-63ba-410a-853b-40b1d0e42ceb",
   "metadata": {},
   "outputs": [],
   "source": [
    "def create_squre_list(create_list):\n",
    "    def inner(arr):\n",
    "        print(\"decor\")\n",
    "        squre_list = [value*value for value in arr]\n",
    "        return create_list(squre_list)\n",
    "    \n",
    "    return inner\n",
    "        # create_list(arr)\n",
    " \n",
    "@create_squre_list\n",
    "def create_list(arr):\n",
    "    print(\"Main\")\n",
    "    return arr"
   ]
  },
  {
   "cell_type": "code",
   "execution_count": 45,
   "id": "e39848df-60d4-401e-a62d-ef522144c03e",
   "metadata": {},
   "outputs": [
    {
     "name": "stdout",
     "output_type": "stream",
     "text": [
      "decor\n",
      "Main\n"
     ]
    },
    {
     "data": {
      "text/plain": [
       "[0, 1, 1, 4, 9, 25, 64, 169, 441, 1156]"
      ]
     },
     "execution_count": 45,
     "metadata": {},
     "output_type": "execute_result"
    }
   ],
   "source": [
    "create_list([0, 1, 1, 2, 3, 5, 8, 13, 21, 34])"
   ]
  },
  {
   "cell_type": "code",
   "execution_count": 49,
   "id": "b5cecffb-a072-4f4f-9f38-68c5a1f234f0",
   "metadata": {},
   "outputs": [
    {
     "name": "stdout",
     "output_type": "stream",
     "text": [
      "\\/\\/\\/\\/\\/\\/\\/\\/\\/\\/\n"
     ]
    }
   ],
   "source": [
    "string = \"\"\" Anru's Father \"welcome\" DjangoFlask \"\"\"\n",
    "\n",
    "print(\"\\/\"*10)"
   ]
  },
  {
   "cell_type": "code",
   "execution_count": 36,
   "id": "adc06964-ffe5-412e-88d8-8f6081ab4ffa",
   "metadata": {},
   "outputs": [
    {
     "name": "stdout",
     "output_type": "stream",
     "text": [
      "10/20/30\n"
     ]
    }
   ],
   "source": [
    "print(10, 20, 30, sep=\",\")"
   ]
  },
  {
   "cell_type": "code",
   "execution_count": 20,
   "id": "27addd9d-1a7f-49b4-a89d-b38ad4c539d8",
   "metadata": {},
   "outputs": [
    {
     "data": {
      "text/plain": [
       "23"
      ]
     },
     "execution_count": 20,
     "metadata": {},
     "output_type": "execute_result"
    }
   ],
   "source": []
  },
  {
   "cell_type": "code",
   "execution_count": null,
   "id": "51e05407-5f81-453b-998c-6f311edcf007",
   "metadata": {},
   "outputs": [],
   "source": []
  }
 ],
 "metadata": {
  "kernelspec": {
   "display_name": "Python 3 (ipykernel)",
   "language": "python",
   "name": "python3"
  },
  "language_info": {
   "codemirror_mode": {
    "name": "ipython",
    "version": 3
   },
   "file_extension": ".py",
   "mimetype": "text/x-python",
   "name": "python",
   "nbconvert_exporter": "python",
   "pygments_lexer": "ipython3",
   "version": "3.10.7"
  }
 },
 "nbformat": 4,
 "nbformat_minor": 5
}
