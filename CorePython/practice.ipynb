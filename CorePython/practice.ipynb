{
 "cells": [
  {
   "cell_type": "markdown",
   "id": "be6193a1-acf5-40a8-8998-b960a1aca10e",
   "metadata": {},
   "source": [
    "Generator the fibnachi serise "
   ]
  },
  {
   "cell_type": "code",
   "execution_count": 60,
   "id": "f95a9aaf-5e33-4dbe-9110-33329a0031dd",
   "metadata": {},
   "outputs": [],
   "source": [
    "import time\n",
    "def calculate_function_time(any_function):\n",
    "    # This function will calculate the time take by any function\n",
    "    \n",
    "    def inner(data):\n",
    "        start_time = time.time()\n",
    "        any_function(data)\n",
    "        end_time = time.time()\n",
    "        total_time = end_time - start_time\n",
    "        print(f'{any_function.__name__} execution time {total_time}')\n",
    "        # return res\n",
    "\n",
    "    return inner\n",
    "\n",
    "@calculate_function_time\n",
    "def sum_of_even_number(data):\n",
    "    # This calcaulate the sum natural number\n",
    "    result = 0\n",
    "    for number in data:\n",
    "        if number%2==0:\n",
    "            result+=number\n",
    "    print(result)    "
   ]
  },
  {
   "cell_type": "code",
   "execution_count": 56,
   "id": "d6702280-02b5-4b31-93c6-e3c618357203",
   "metadata": {},
   "outputs": [],
   "source": [
    "def find_min_max(l):\n",
    "    l[0] = \"Test\"\n",
    "    max_value = l[0]\n",
    "    min_value = l[0]\n",
    "    # for value in l:\n",
    "    #     if value > max_value:\n",
    "    #         max_value = value\n",
    "    #     if value < min_value:\n",
    "    #         min_value = value\n",
    "\n",
    "    return max_value, min_value\n",
    "\n",
    "            "
   ]
  },
  {
   "cell_type": "code",
   "execution_count": 10,
   "id": "41917a7a-939c-4390-ae5d-54ac661cb68b",
   "metadata": {},
   "outputs": [],
   "source": [
    "res = []\n",
    "def flat_list(nested_list):\n",
    "\n",
    "    for data in nested_list:\n",
    "\n",
    "        if type(data) == list:\n",
    "            flat_list(data)\n",
    "        else:\n",
    "            res.append(data)\n",
    "\n",
    "    "
   ]
  },
  {
   "cell_type": "code",
   "execution_count": 11,
   "id": "d2d76eda-b7fc-4cde-ba34-187bbd4053ca",
   "metadata": {},
   "outputs": [
    {
     "name": "stdout",
     "output_type": "stream",
     "text": [
      "[1, 2, 3, 4, 5, 6, 7, 8, 9, 10, 11, 12, 13, 14]\n"
     ]
    }
   ],
   "source": [
    "list_of_lists = [[1, 2], [3, 4], [5, 6, [7,8], [9, 10, [11, 12]]], 13, 14]\n",
    "\n",
    "flat_list(list_of_lists)\n",
    "\n",
    "print(res)"
   ]
  },
  {
   "cell_type": "code",
   "execution_count": 15,
   "id": "8e7ec42b-6e2f-4c6c-856d-34db22a9c5ca",
   "metadata": {},
   "outputs": [
    {
     "data": {
      "text/plain": [
       "True"
      ]
     },
     "execution_count": 15,
     "metadata": {},
     "output_type": "execute_result"
    }
   ],
   "source": [
    "l  = [1,2,3]\n",
    "type(l) == list"
   ]
  },
  {
   "cell_type": "code",
   "execution_count": null,
   "id": "94f50d0f-da70-4af4-9265-dd475389287b",
   "metadata": {},
   "outputs": [],
   "source": []
  }
 ],
 "metadata": {
  "kernelspec": {
   "display_name": "Python 3 (ipykernel)",
   "language": "python",
   "name": "python3"
  },
  "language_info": {
   "codemirror_mode": {
    "name": "ipython",
    "version": 3
   },
   "file_extension": ".py",
   "mimetype": "text/x-python",
   "name": "python",
   "nbconvert_exporter": "python",
   "pygments_lexer": "ipython3",
   "version": "3.10.7"
  }
 },
 "nbformat": 4,
 "nbformat_minor": 5
}
