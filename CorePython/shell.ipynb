{
 "cells": [
  {
   "cell_type": "code",
   "execution_count": 19,
   "id": "d4b67cde",
   "metadata": {},
   "outputs": [],
   "source": [
    "def find_pivot_index(arr):\n",
    "    total_sum = sum(arr)\n",
    "    left_sum = 0\n",
    "    right_sum = total_sum\n",
    "    for i in range(len(arr)):\n",
    "        right_sum = right_sum-arr[i]\n",
    "        if left_sum == right_sum:\n",
    "             return i\n",
    "        else:\n",
    "            left_sum = left_sum+arr[i]\n",
    "    else:\n",
    "        return -1\n",
    "    "
   ]
  },
  {
   "cell_type": "code",
   "execution_count": 21,
   "id": "2ff6aba4",
   "metadata": {},
   "outputs": [
    {
     "data": {
      "text/plain": [
       "0"
      ]
     },
     "execution_count": 21,
     "metadata": {},
     "output_type": "execute_result"
    }
   ],
   "source": [
    "l = [1,7,3,6,5,6]\n",
    "l = [2,1,-1]\n",
    "find_pivot_index(l)"
   ]
  },
  {
   "cell_type": "code",
   "execution_count": 48,
   "id": "5cda27ee",
   "metadata": {},
   "outputs": [
    {
     "data": {
      "text/plain": [
       "[6, 5, 6, 3, 7, 1]"
      ]
     },
     "execution_count": 48,
     "metadata": {},
     "output_type": "execute_result"
    }
   ],
   "source": [
    "arr = [1,7,3,6,5,6]\n",
    "arr[-1::-1]"
   ]
  },
  {
   "cell_type": "code",
   "execution_count": 39,
   "id": "7c59b526",
   "metadata": {},
   "outputs": [
    {
     "data": {
      "text/plain": [
       "27"
      ]
     },
     "execution_count": 39,
     "metadata": {},
     "output_type": "execute_result"
    }
   ],
   "source": [
    "arr = [1,7,3,6,5,6]\n",
    "sum(arr[0+1::])"
   ]
  },
  {
   "cell_type": "code",
   "execution_count": 22,
   "id": "a91743b3",
   "metadata": {},
   "outputs": [
    {
     "data": {
      "text/plain": [
       "0"
      ]
     },
     "execution_count": 22,
     "metadata": {},
     "output_type": "execute_result"
    }
   ],
   "source": [
    "sum([])\n"
   ]
  },
  {
   "cell_type": "code",
   "execution_count": 2,
   "id": "263a2c02",
   "metadata": {},
   "outputs": [
    {
     "data": {
      "text/plain": [
       "'cba'"
      ]
     },
     "execution_count": 2,
     "metadata": {},
     "output_type": "execute_result"
    }
   ],
   "source": [
    "\"abc\"[::-1]"
   ]
  },
  {
   "cell_type": "code",
   "execution_count": null,
   "id": "3fb49fe9",
   "metadata": {},
   "outputs": [],
   "source": []
  }
 ],
 "metadata": {
  "kernelspec": {
   "display_name": "Python 3 (ipykernel)",
   "language": "python",
   "name": "python3"
  },
  "language_info": {
   "codemirror_mode": {
    "name": "ipython",
    "version": 3
   },
   "file_extension": ".py",
   "mimetype": "text/x-python",
   "name": "python",
   "nbconvert_exporter": "python",
   "pygments_lexer": "ipython3",
   "version": "3.7.9"
  }
 },
 "nbformat": 4,
 "nbformat_minor": 5
}
