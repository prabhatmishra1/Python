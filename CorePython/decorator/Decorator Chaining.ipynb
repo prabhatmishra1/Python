{
 "cells": [
  {
   "cell_type": "code",
   "execution_count": 25,
   "id": "2ba0581a",
   "metadata": {},
   "outputs": [],
   "source": [
    "def decor_show_italic_text(show_text_fun):\n",
    "    \n",
    "    def inner(text):\n",
    "        return \"<i>{}</i>\".format(show_text_fun(text))\n",
    "    \n",
    "    return inner\n",
    "        \n",
    "def decor_show_bold_text(show_text_fun):\n",
    "    \n",
    "    def inner(text):\n",
    "        return \"<b>{}</b>\".format(show_text_fun(text))\n",
    "        \n",
    "    return inner\n",
    "\n",
    "\n",
    "@decor_show_italic_text        \n",
    "@decor_show_bold_text\n",
    "def show_text(text):\n",
    "    return text\n"
   ]
  },
  {
   "cell_type": "code",
   "execution_count": 26,
   "id": "b0e99653",
   "metadata": {},
   "outputs": [
    {
     "data": {
      "text/plain": [
       "'<i><b>hello</b></i>'"
      ]
     },
     "execution_count": 26,
     "metadata": {},
     "output_type": "execute_result"
    }
   ],
   "source": [
    "show_text(\"hello\")"
   ]
  },
  {
   "cell_type": "code",
   "execution_count": null,
   "id": "cffb9301",
   "metadata": {},
   "outputs": [],
   "source": []
  }
 ],
 "metadata": {
  "kernelspec": {
   "display_name": "Python 3 (ipykernel)",
   "language": "python",
   "name": "python3"
  },
  "language_info": {
   "codemirror_mode": {
    "name": "ipython",
    "version": 3
   },
   "file_extension": ".py",
   "mimetype": "text/x-python",
   "name": "python",
   "nbconvert_exporter": "python",
   "pygments_lexer": "ipython3",
   "version": "3.7.9"
  }
 },
 "nbformat": 4,
 "nbformat_minor": 5
}
