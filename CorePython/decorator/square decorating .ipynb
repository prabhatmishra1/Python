{
 "cells": [
  {
   "cell_type": "code",
   "execution_count": 6,
   "id": "988605f6",
   "metadata": {},
   "outputs": [],
   "source": [
    "def decor_show_number(show_number_fun):\n",
    "    \n",
    "    def inner(l):\n",
    "        z=list(map(lambda a:a**2, l))\n",
    "        show_number_fun(z)\n",
    "        \n",
    "    return inner  \n",
    "\n",
    "\n",
    "#@decor_show_number\n",
    "def show_number(l):\n",
    "    print(*l, sep='\\n')\n",
    "\n"
   ]
  },
  {
   "cell_type": "code",
   "execution_count": 7,
   "id": "fd0667bc",
   "metadata": {},
   "outputs": [
    {
     "name": "stdout",
     "output_type": "stream",
     "text": [
      "1\n",
      "2\n",
      "3\n",
      "4\n",
      "5\n"
     ]
    }
   ],
   "source": [
    "show_number([1,2,3,4,5])"
   ]
  },
  {
   "cell_type": "code",
   "execution_count": 8,
   "id": "930b8323",
   "metadata": {},
   "outputs": [],
   "source": [
    "fun = decor_show_number(show_number)"
   ]
  },
  {
   "cell_type": "code",
   "execution_count": 11,
   "id": "a99b2033",
   "metadata": {},
   "outputs": [
    {
     "name": "stdout",
     "output_type": "stream",
     "text": [
      "1\n",
      "4\n",
      "9\n",
      "16\n",
      "25\n"
     ]
    }
   ],
   "source": [
    "fun([1,2,3,4,5])"
   ]
  },
  {
   "cell_type": "code",
   "execution_count": null,
   "id": "b0621b03",
   "metadata": {},
   "outputs": [],
   "source": []
  }
 ],
 "metadata": {
  "kernelspec": {
   "display_name": "Python 3 (ipykernel)",
   "language": "python",
   "name": "python3"
  },
  "language_info": {
   "codemirror_mode": {
    "name": "ipython",
    "version": 3
   },
   "file_extension": ".py",
   "mimetype": "text/x-python",
   "name": "python",
   "nbconvert_exporter": "python",
   "pygments_lexer": "ipython3",
   "version": "3.7.9"
  }
 },
 "nbformat": 4,
 "nbformat_minor": 5
}
