{
 "cells": [
  {
   "cell_type": "code",
   "execution_count": null,
   "id": "b317d765",
   "metadata": {},
   "outputs": [],
   "source": [
    "l=0"
   ]
  },
  {
   "cell_type": "code",
   "execution_count": null,
   "id": "62c2978c",
   "metadata": {},
   "outputs": [],
   "source": [
    "print(\"hello\")"
   ]
  },
  {
   "cell_type": "code",
   "execution_count": 1,
   "id": "b943d55c",
   "metadata": {},
   "outputs": [
    {
     "name": "stdout",
     "output_type": "stream",
     "text": [
      "hello\n"
     ]
    }
   ],
   "source": [
    "print(\"hello\")"
   ]
  },
  {
   "cell_type": "code",
   "execution_count": 24,
   "id": "8c10b08e",
   "metadata": {},
   "outputs": [
    {
     "name": "stdout",
     "output_type": "stream",
     "text": [
      "[]\n",
      "[1]\n",
      "[1, 2]\n",
      "[1, 2, 3]\n",
      "[1, 2, 3, 5]\n",
      "[1, 2, 3, 5, 6]\n",
      "[1, 2, 3, 5, 6, 8]\n",
      "[1, 2, 3, 5, 6, 8, 9]\n",
      "[1, 2, 3, 5, 6, 8, 9, 11]\n",
      "[1, 2, 3, 5, 6, 8, 9, 11, 12]\n",
      "[1, 2, 3, 5, 6, 8, 9, 11, 12, 13]\n",
      "[1, 2, 3, 5, 6, 8, 9, 11, 12, 13, 15]\n",
      "[1, 2, 3, 5, 6, 8, 9, 11, 12, 13, 15, 16]\n",
      "[1, 2, 3, 5, 6, 8, 9, 11, 12, 13, 15, 16, 18]\n",
      "[1, 2, 3, 5, 6, 8, 9, 11, 12, 13, 15, 16, 18, 20]\n",
      "[1, 2, 3, 5, 6, 8, 9, 11, 12, 13, 15, 16, 18, 20, 22]\n",
      "[1, 2, 3, 5, 6, 8, 9, 11, 12, 13, 15, 16, 18, 20, 22, 23]\n",
      "[1, 2, 3, 5, 6, 8, 9, 11, 12, 13, 15, 16, 18, 20, 22, 23, 30]\n",
      "[1, 2, 3, 5, 6, 8, 9, 11, 12, 13, 15, 16, 18, 20, 22, 23, 30, 50]\n"
     ]
    },
    {
     "ename": "IndexError",
     "evalue": "list index out of range",
     "output_type": "error",
     "traceback": [
      "\u001b[1;31m---------------------------------------------------------------------------\u001b[0m",
      "\u001b[1;31mIndexError\u001b[0m                                Traceback (most recent call last)",
      "\u001b[1;32mC:\\Users\\PRABHA~1\\AppData\\Local\\Temp/ipykernel_24196/937404601.py\u001b[0m in \u001b[0;36m<module>\u001b[1;34m\u001b[0m\n\u001b[0;32m      7\u001b[0m \u001b[1;32mwhile\u001b[0m \u001b[0mi\u001b[0m \u001b[1;33m<=\u001b[0m\u001b[0mn\u001b[0m\u001b[1;33m:\u001b[0m\u001b[1;33m\u001b[0m\u001b[1;33m\u001b[0m\u001b[0m\n\u001b[0;32m      8\u001b[0m     \u001b[0mprint\u001b[0m\u001b[1;33m(\u001b[0m\u001b[0ma3\u001b[0m\u001b[1;33m)\u001b[0m\u001b[1;33m\u001b[0m\u001b[1;33m\u001b[0m\u001b[0m\n\u001b[1;32m----> 9\u001b[1;33m     \u001b[1;32mif\u001b[0m \u001b[0ma1\u001b[0m\u001b[1;33m[\u001b[0m\u001b[0mj\u001b[0m\u001b[1;33m]\u001b[0m \u001b[1;33m<\u001b[0m \u001b[0ma2\u001b[0m\u001b[1;33m[\u001b[0m\u001b[0mi\u001b[0m\u001b[1;33m]\u001b[0m \u001b[1;32mand\u001b[0m \u001b[0mj\u001b[0m \u001b[1;33m<\u001b[0m \u001b[0mlen\u001b[0m\u001b[1;33m(\u001b[0m\u001b[0ma1\u001b[0m\u001b[1;33m)\u001b[0m\u001b[1;33m-\u001b[0m\u001b[1;36m1\u001b[0m\u001b[1;33m:\u001b[0m\u001b[1;33m\u001b[0m\u001b[1;33m\u001b[0m\u001b[0m\n\u001b[0m\u001b[0;32m     10\u001b[0m         \u001b[0ma3\u001b[0m\u001b[1;33m.\u001b[0m\u001b[0mappend\u001b[0m\u001b[1;33m(\u001b[0m\u001b[0ma1\u001b[0m\u001b[1;33m[\u001b[0m\u001b[0mj\u001b[0m\u001b[1;33m]\u001b[0m\u001b[1;33m)\u001b[0m\u001b[1;33m\u001b[0m\u001b[1;33m\u001b[0m\u001b[0m\n\u001b[0;32m     11\u001b[0m         \u001b[0mj\u001b[0m\u001b[1;33m+=\u001b[0m\u001b[1;36m1\u001b[0m\u001b[1;33m\u001b[0m\u001b[1;33m\u001b[0m\u001b[0m\n",
      "\u001b[1;31mIndexError\u001b[0m: list index out of range"
     ]
    }
   ],
   "source": [
    "def fun(a1,a2)\n",
    "    a3 = []\n",
    "    n = len(a2) if len(a2)>len(a1) else len(a1)\n",
    "    j=0\n",
    "    i=0\n",
    "    while i <=n:\n",
    "        print(a3)\n",
    "        if a1[j] < a2[i] and j < len(a1)-1:\n",
    "            a3.append(a1[j])\n",
    "            j+=1\n",
    "        else:\n",
    "            a3.append(a2[i])\n",
    "            i+=1\n",
    "    return a3\n",
    "            \n",
    "a1 = [1,5,8,12,15,20,25]\n",
    "a2 = [2,3,6,9,11,13,16,18,22,23,30,50]\n",
    "\n",
    "print(fun(a1,a2))\n"
   ]
  },
  {
   "cell_type": "code",
   "execution_count": 25,
   "id": "e56ec319",
   "metadata": {},
   "outputs": [
    {
     "data": {
      "text/plain": [
       "0"
      ]
     },
     "execution_count": 25,
     "metadata": {},
     "output_type": "execute_result"
    }
   ],
   "source": [
    "for i in range(n):n\n",
    "    for j in range(n):\n",
    "        print(i-1)\n",
    "        \n",
    "l = [2,5,6,79,5,4]    \n",
    "\n"
   ]
  },
  {
   "cell_type": "code",
   "execution_count": null,
   "id": "38edf3f4",
   "metadata": {},
   "outputs": [],
   "source": [
    "0"
   ]
  }
 ],
 "metadata": {
  "kernelspec": {
   "display_name": "Python 3 (ipykernel)",
   "language": "python",
   "name": "python3"
  },
  "language_info": {
   "codemirror_mode": {
    "name": "ipython",
    "version": 3
   },
   "file_extension": ".py",
   "mimetype": "text/x-python",
   "name": "python",
   "nbconvert_exporter": "python",
   "pygments_lexer": "ipython3",
   "version": "3.7.9"
  }
 },
 "nbformat": 4,
 "nbformat_minor": 5
}
