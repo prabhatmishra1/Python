{
 "cells": [
  {
   "cell_type": "code",
   "execution_count": 8,
   "id": "f85b5c1c",
   "metadata": {},
   "outputs": [
    {
     "name": "stdout",
     "output_type": "stream",
     "text": [
      "This is doc \n"
     ]
    }
   ],
   "source": [
    "class Student(object):\n",
    "    '''This is doc '''\n",
    "    amount=0\n",
    "    MIN=89\n",
    "    def __init__(self):\n",
    "        self.a='as'\n",
    "        self.b='asas'\n",
    "    def add(self):\n",
    "        self.a='assa'\n",
    "\n",
    "print(Student.__doc__)"
   ]
  },
  {
   "cell_type": "code",
   "execution_count": 10,
   "id": "545c2396",
   "metadata": {},
   "outputs": [
    {
     "name": "stdout",
     "output_type": "stream",
     "text": [
      "Help on class Student in module __main__:\n",
      "\n",
      "class Student(builtins.object)\n",
      " |  This is doc\n",
      " |  \n",
      " |  Methods defined here:\n",
      " |  \n",
      " |  __init__(self)\n",
      " |      Initialize self.  See help(type(self)) for accurate signature.\n",
      " |  \n",
      " |  add(self)\n",
      " |  \n",
      " |  ----------------------------------------------------------------------\n",
      " |  Data descriptors defined here:\n",
      " |  \n",
      " |  __dict__\n",
      " |      dictionary for instance variables (if defined)\n",
      " |  \n",
      " |  __weakref__\n",
      " |      list of weak references to the object (if defined)\n",
      " |  \n",
      " |  ----------------------------------------------------------------------\n",
      " |  Data and other attributes defined here:\n",
      " |  \n",
      " |  MIN = 89\n",
      " |  \n",
      " |  amount = 0\n",
      "\n"
     ]
    }
   ],
   "source": [
    "help(Student)"
   ]
  },
  {
   "cell_type": "code",
   "execution_count": 18,
   "id": "c80bb0fd",
   "metadata": {},
   "outputs": [
    {
     "name": "stdout",
     "output_type": "stream",
     "text": [
      "2202391996744\n"
     ]
    }
   ],
   "source": [
    "class Student(object):\n",
    "    '''This is doc '''\n",
    "    amount=0\n",
    "    MIN=89\n",
    "    def __init__(self):\n",
    "        self.a='as'\n",
    "        self.b='asas'\n",
    "        print(id(self))\n",
    "    def add(self):\n",
    "        self.a='assa'\n",
    "\n",
    "ref=Student()"
   ]
  },
  {
   "cell_type": "code",
   "execution_count": 17,
   "id": "db0225d4",
   "metadata": {},
   "outputs": [
    {
     "name": "stdout",
     "output_type": "stream",
     "text": [
      "2202391993096\n"
     ]
    }
   ],
   "source": [
    "print(id(ref))"
   ]
  },
  {
   "cell_type": "code",
   "execution_count": null,
   "id": "f19fcb42",
   "metadata": {},
   "outputs": [],
   "source": []
  }
 ],
 "metadata": {
  "kernelspec": {
   "display_name": "Python 3",
   "language": "python",
   "name": "python3"
  },
  "language_info": {
   "codemirror_mode": {
    "name": "ipython",
    "version": 3
   },
   "file_extension": ".py",
   "mimetype": "text/x-python",
   "name": "python",
   "nbconvert_exporter": "python",
   "pygments_lexer": "ipython3",
   "version": "3.7.9"
  }
 },
 "nbformat": 4,
 "nbformat_minor": 5
}
