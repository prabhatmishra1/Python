{
 "cells": [
  {
   "cell_type": "code",
   "execution_count": 11,
   "id": "988605f6",
   "metadata": {},
   "outputs": [],
   "source": [
    "def decor_show_number(show_number_fun):\n",
    "    \n",
    "    def inner(l):\n",
    "        z=list(map(lambda a:a**2, l))\n",
    "        show_number_fun(z)\n",
    "        \n",
    "    return inner  \n",
    "\n",
    "\n",
    "@decor_show_number\n",
    "def show_number(l):\n",
    "    print(*l, sep='\\n')"
   ]
  },
  {
   "cell_type": "code",
   "execution_count": 12,
   "id": "fd0667bc",
   "metadata": {},
   "outputs": [
    {
     "name": "stdout",
     "output_type": "stream",
     "text": [
      "1\n",
      "4\n",
      "9\n",
      "16\n",
      "25\n"
     ]
    }
   ],
   "source": [
    "show_number([1,2,3,4,5])"
   ]
  },
  {
   "cell_type": "code",
   "execution_count": 13,
   "id": "147fe56c",
   "metadata": {},
   "outputs": [],
   "source": []
  },
  {
   "cell_type": "code",
   "execution_count": 17,
   "id": "5596be3c",
   "metadata": {},
   "outputs": [
    {
     "data": {
      "text/plain": [
       "[{'system': 'phone', 'value': '+919140238580', 'use': 'mobile'}]"
      ]
     },
     "execution_count": 17,
     "metadata": {},
     "output_type": "execute_result"
    }
   ],
   "source": [
    "record['telecom']"
   ]
  },
  {
   "cell_type": "code",
   "execution_count": 26,
   "id": "fbe0ff4b",
   "metadata": {},
   "outputs": [],
   "source": [
    "data=next(filter(lambda x:x['system']=='phone' and x['use']=='mobile' ,record['telecom']))"
   ]
  },
  {
   "cell_type": "code",
   "execution_count": 27,
   "id": "4bc714fe",
   "metadata": {},
   "outputs": [
    {
     "data": {
      "text/plain": [
       "{'system': 'phone', 'value': '+919140238580', 'use': 'mobile'}"
      ]
     },
     "execution_count": 27,
     "metadata": {},
     "output_type": "execute_result"
    }
   ],
   "source": [
    "data"
   ]
  },
  {
   "cell_type": "code",
   "execution_count": 24,
   "id": "0f226109",
   "metadata": {},
   "outputs": [
    {
     "data": {
      "text/plain": [
       "{'system': 'phone', 'value': '+919140238580', 'use': 'mobile'}"
      ]
     },
     "execution_count": 24,
     "metadata": {},
     "output_type": "execute_result"
    }
   ],
   "source": [
    "dict(data)"
   ]
  },
  {
   "cell_type": "code",
   "execution_count": null,
   "id": "e8e06349",
   "metadata": {},
   "outputs": [],
   "source": []
  }
 ],
 "metadata": {
  "kernelspec": {
   "display_name": "Python 3 (ipykernel)",
   "language": "python",
   "name": "python3"
  },
  "language_info": {
   "codemirror_mode": {
    "name": "ipython",
    "version": 3
   },
   "file_extension": ".py",
   "mimetype": "text/x-python",
   "name": "python",
   "nbconvert_exporter": "python",
   "pygments_lexer": "ipython3",
   "version": "3.7.9"
  }
 },
 "nbformat": 4,
 "nbformat_minor": 5
}
