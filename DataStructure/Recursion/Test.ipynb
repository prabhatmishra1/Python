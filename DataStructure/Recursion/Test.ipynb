{
 "cells": [
  {
   "cell_type": "code",
   "execution_count": 33,
   "id": "575c86ad",
   "metadata": {},
   "outputs": [],
   "source": [
    "def fun(n):\n",
    "    global a\n",
    "    a =0\n",
    "    if n==0:\n",
    "        return\n",
    "#     winding-yha per function call krta hai\n",
    "    print(n)\n",
    "    fun(n-1)\n",
    "#   unwinding-yha return krta hai\n",
    "    print(\"unwanding start\")\n",
    "    \n",
    "    \n",
    "    \n",
    "    "
   ]
  },
  {
   "cell_type": "code",
   "execution_count": 34,
   "id": "9bebd8ad",
   "metadata": {},
   "outputs": [
    {
     "name": "stdout",
     "output_type": "stream",
     "text": [
      "5\n",
      "4\n",
      "3\n",
      "2\n",
      "1\n",
      "unwanding start\n",
      "unwanding start\n",
      "unwanding start\n",
      "unwanding start\n",
      "unwanding start\n"
     ]
    }
   ],
   "source": [
    "fun(5)"
   ]
  },
  {
   "cell_type": "code",
   "execution_count": 88,
   "id": "3a420e71",
   "metadata": {},
   "outputs": [
    {
     "name": "stdout",
     "output_type": "stream",
     "text": [
      "11\n"
     ]
    }
   ],
   "source": [
    "def sumOfNumbers(n, count=0):\n",
    "    global i\n",
    "    i = 1\n",
    "    i+=count\n",
    "    if not n:\n",
    "        return n\n",
    "    return n+sumOfNumbers(n-1,i)\n",
    "print(i)"
   ]
  },
  {
   "cell_type": "code",
   "execution_count": 87,
   "id": "45d646c5",
   "metadata": {},
   "outputs": [
    {
     "name": "stdout",
     "output_type": "stream",
     "text": [
      "55\n"
     ]
    }
   ],
   "source": [
    "print(sumOfNumbers(10))"
   ]
  },
  {
   "cell_type": "code",
   "execution_count": 91,
   "id": "2dfd65c0",
   "metadata": {},
   "outputs": [],
   "source": [
    "def getInList(n):\n",
    "    global  l\n",
    "    l = []\n",
    "    if n==0:\n",
    "        return 0\n",
    "    print(n)\n",
    "    getInList(n-1)\n",
    "    l.append(n)"
   ]
  },
  {
   "cell_type": "code",
   "execution_count": 92,
   "id": "7bcc113c",
   "metadata": {},
   "outputs": [
    {
     "name": "stdout",
     "output_type": "stream",
     "text": [
      "10\n",
      "9\n",
      "8\n",
      "7\n",
      "6\n",
      "5\n",
      "4\n",
      "3\n",
      "2\n",
      "1\n"
     ]
    }
   ],
   "source": [
    "getInList(10)"
   ]
  },
  {
   "cell_type": "code",
   "execution_count": 93,
   "id": "555e8aca",
   "metadata": {},
   "outputs": [
    {
     "data": {
      "text/plain": [
       "[1, 2, 3, 4, 5, 6, 7, 8, 9, 10]"
      ]
     },
     "execution_count": 93,
     "metadata": {},
     "output_type": "execute_result"
    }
   ],
   "source": [
    "l"
   ]
  },
  {
   "cell_type": "code",
   "execution_count": null,
   "id": "5c4517eb",
   "metadata": {},
   "outputs": [],
   "source": []
  }
 ],
 "metadata": {
  "kernelspec": {
   "display_name": "Python 3 (ipykernel)",
   "language": "python",
   "name": "python3"
  },
  "language_info": {
   "codemirror_mode": {
    "name": "ipython",
    "version": 3
   },
   "file_extension": ".py",
   "mimetype": "text/x-python",
   "name": "python",
   "nbconvert_exporter": "python",
   "pygments_lexer": "ipython3",
   "version": "3.7.9"
  }
 },
 "nbformat": 4,
 "nbformat_minor": 5
}
