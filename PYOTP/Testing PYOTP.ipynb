{
 "cells": [
  {
   "cell_type": "code",
   "execution_count": 3,
   "id": "7defdfe7",
   "metadata": {},
   "outputs": [],
   "source": [
    "from pyotp import TOTP"
   ]
  },
  {
   "cell_type": "code",
   "execution_count": 38,
   "id": "c5e1a3dc",
   "metadata": {},
   "outputs": [],
   "source": [
    "totp = pyotp.TOTP('base32secret3232', interval=120, digits=4)"
   ]
  },
  {
   "cell_type": "code",
   "execution_count": 39,
   "id": "44580643",
   "metadata": {},
   "outputs": [
    {
     "data": {
      "text/plain": [
       "'7467'"
      ]
     },
     "execution_count": 39,
     "metadata": {},
     "output_type": "execute_result"
    }
   ],
   "source": [
    "totp.now()"
   ]
  },
  {
   "cell_type": "code",
   "execution_count": 40,
   "id": "aa30b8ce",
   "metadata": {},
   "outputs": [
    {
     "data": {
      "text/plain": [
       "False"
      ]
     },
     "execution_count": 40,
     "metadata": {},
     "output_type": "execute_result"
    }
   ],
   "source": [
    "totp.verify('7467')"
   ]
  },
  {
   "cell_type": "code",
   "execution_count": 33,
   "id": "4bbd7629",
   "metadata": {},
   "outputs": [
    {
     "data": {
      "text/plain": [
       "120"
      ]
     },
     "execution_count": 33,
     "metadata": {},
     "output_type": "execute_result"
    }
   ],
   "source": [
    "totp.interval"
   ]
  },
  {
   "cell_type": "code",
   "execution_count": null,
   "id": "f4afbd37",
   "metadata": {},
   "outputs": [],
   "source": [
    "7467"
   ]
  }
 ],
 "metadata": {
  "kernelspec": {
   "display_name": "Python 3 (ipykernel)",
   "language": "python",
   "name": "python3"
  },
  "language_info": {
   "codemirror_mode": {
    "name": "ipython",
    "version": 3
   },
   "file_extension": ".py",
   "mimetype": "text/x-python",
   "name": "python",
   "nbconvert_exporter": "python",
   "pygments_lexer": "ipython3",
   "version": "3.7.9"
  }
 },
 "nbformat": 4,
 "nbformat_minor": 5
}
