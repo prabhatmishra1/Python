{
 "cells": [
  {
   "cell_type": "code",
   "execution_count": 71,
   "id": "268b5f35",
   "metadata": {},
   "outputs": [],
   "source": [
    "def getMin(l,x):\n",
    "    if x in l:\n",
    "        minRes = [item for item in l if item < x ]\n",
    "        return minRes\n",
    "    return \"item does't exist\"   \n",
    "    "
   ]
  },
  {
   "cell_type": "code",
   "execution_count": 72,
   "id": "bbe8d082",
   "metadata": {},
   "outputs": [
    {
     "name": "stdout",
     "output_type": "stream",
     "text": [
      "[10, 5, 3, 1]\n"
     ]
    }
   ],
   "source": [
    "l = [10,30,40,5,3,1,13]\n",
    "print(getMin(l,13))"
   ]
  },
  {
   "cell_type": "code",
   "execution_count": 80,
   "id": "57085142",
   "metadata": {},
   "outputs": [],
   "source": [
    "arr = [19,43,23,67,45,43,10]"
   ]
  },
  {
   "cell_type": "code",
   "execution_count": 95,
   "id": "da042111",
   "metadata": {},
   "outputs": [
    {
     "data": {
      "text/plain": [
       "{'Ram': 23, 'Shaym': 34, 'Ghansyam': 21, 'RadheShyam': 34}"
      ]
     },
     "execution_count": 95,
     "metadata": {},
     "output_type": "execute_result"
    }
   ],
   "source": [
    "name = ['Ram','Shaym','Ghansyam','RadheShyam']\n",
    "age = [23,34,21,34]\n",
    "\n",
    "{ name[i]:age[i] for i in range(len(name))}\n"
   ]
  },
  {
   "cell_type": "code",
   "execution_count": 99,
   "id": "bf8608b0",
   "metadata": {},
   "outputs": [
    {
     "data": {
      "text/plain": [
       "{'Ram': 1, 'Shaym': 2, 'Ghansyam': 3}"
      ]
     },
     "execution_count": 99,
     "metadata": {},
     "output_type": "execute_result"
    }
   ],
   "source": [
    "salary= [1,2,3]\n",
    "dict(zip(name,salary))"
   ]
  },
  {
   "cell_type": "code",
   "execution_count": 108,
   "id": "46c6dee9",
   "metadata": {},
   "outputs": [
    {
     "data": {
      "text/plain": [
       "{23: 'Ram', 34: 'RadheShyam', 21: 'Ghansyam'}"
      ]
     },
     "execution_count": 108,
     "metadata": {},
     "output_type": "execute_result"
    }
   ],
   "source": [
    "data = {'Ram': 23, 'Shaym': 34, 'Ghansyam': 21, 'RadheShyam': 34}\n",
    "dict(zip(data.values(), data.keys()))"
   ]
  },
  {
   "cell_type": "code",
   "execution_count": 141,
   "id": "8aefecc6",
   "metadata": {},
   "outputs": [],
   "source": [
    "def getSecondLarge(arr):\n",
    "    \n",
    "    if arr == [] :\n",
    "        return None\n",
    "    \n",
    "    firstMax = max(arr)\n",
    "    \n",
    "    secondMax = None\n",
    "    \n",
    "    for item in arr:\n",
    "        if item != firstMax:\n",
    "            if secondMax == None:\n",
    "                secondMax = item\n",
    "            elif secondMax < item:\n",
    "                secondMax = item\n",
    "                \n",
    "    return secondMax            \n",
    "                \n",
    "    "
   ]
  },
  {
   "cell_type": "code",
   "execution_count": 143,
   "id": "a016cc9e",
   "metadata": {},
   "outputs": [
    {
     "name": "stdout",
     "output_type": "stream",
     "text": [
      "12\n"
     ]
    }
   ],
   "source": [
    "print(getSecondLarge([20,12,10,3,4,20]))"
   ]
  },
  {
   "cell_type": "markdown",
   "id": "25356c18",
   "metadata": {},
   "source": [
    "# Effiecent to write the code"
   ]
  },
  {
   "cell_type": "code",
   "execution_count": 144,
   "id": "5fb03dd1",
   "metadata": {},
   "outputs": [],
   "source": [
    "def getSecondLarge(arr):\n",
    "    if len(arr) < 1:\n",
    "        return None\n",
    "    \n",
    "    firstMax = arr[0]\n",
    "    secondMax = None\n",
    "    \n",
    "    for item in arr[1:]:\n",
    "        if item>firstMax:\n",
    "            secondMax = firstMax\n",
    "            firstMax = item\n",
    "        elif item != firstMax:\n",
    "            if secondMax == None or secondMax < item:\n",
    "                secondMax = item\n",
    "                \n",
    "    return secondMax "
   ]
  },
  {
   "cell_type": "code",
   "execution_count": 145,
   "id": "b5fa24ae",
   "metadata": {},
   "outputs": [
    {
     "name": "stdout",
     "output_type": "stream",
     "text": [
      "12\n"
     ]
    }
   ],
   "source": [
    "print(getSecondLarge([20,12,10,3,4,20]))"
   ]
  },
  {
   "cell_type": "markdown",
   "id": "2e1545f6",
   "metadata": {},
   "source": [
    "# Write a Script to check weather list is sorted or not ?"
   ]
  },
  {
   "cell_type": "code",
   "execution_count": 209,
   "id": "d75b6a7f",
   "metadata": {},
   "outputs": [],
   "source": [
    "def isSorted(arr):\n",
    "    for index in range(len(arr)-1):\n",
    "        print(index)\n",
    "        if arr[index] > arr[index+1]:\n",
    "            return False\n",
    "    return True   \n",
    "           \n",
    "\n",
    "                \n",
    "        "
   ]
  },
  {
   "cell_type": "code",
   "execution_count": 210,
   "id": "fbb6bdf3",
   "metadata": {},
   "outputs": [
    {
     "name": "stdout",
     "output_type": "stream",
     "text": [
      "0\n",
      "1\n",
      "True\n"
     ]
    }
   ],
   "source": [
    "print(isSorted([1,2,3]))"
   ]
  },
  {
   "cell_type": "markdown",
   "id": "bb0265f3",
   "metadata": {},
   "source": [
    "# Find  the odd occrenece of number in the list"
   ]
  },
  {
   "cell_type": "code",
   "execution_count": 32,
   "id": "207ea01b",
   "metadata": {},
   "outputs": [],
   "source": [
    "def findOdd(arr):\n",
    "    for item in arr:\n",
    "        if arr.count(item)%2:\n",
    "            print(item)\n",
    "\n",
    "# def findOdd(arr):\n",
    "#     for item in set(arr):\n",
    "# #         print(f\"{item} count is {arr.count(item)}\")\n",
    "#         if arr.count(item)%2:\n",
    "#             print(item)\n",
    "\n",
    "# def findOdd(arr):\n",
    "#     temp = list()\n",
    "#     for item in arr:\n",
    "#         if (item not in temp) and (arr.count(item)%2):\n",
    "#             temp.append(item)\n",
    "#             print(item)\n",
    "\n",
    "\n",
    "def findOdd(arr):\n",
    "    res = 0\n",
    "    for item in arr:\n",
    "        res = res ^ item\n",
    "    return res   \n"
   ]
  },
  {
   "cell_type": "code",
   "execution_count": 33,
   "id": "a3fae7bd",
   "metadata": {},
   "outputs": [
    {
     "data": {
      "text/plain": [
       "10"
      ]
     },
     "execution_count": 33,
     "metadata": {},
     "output_type": "execute_result"
    }
   ],
   "source": [
    "findOdd([10,1,1])"
   ]
  },
  {
   "cell_type": "code",
   "execution_count": 85,
   "id": "bb90e2e4",
   "metadata": {},
   "outputs": [],
   "source": [
    "# def Rotate(arr):\n",
    "#     for i in range(1,len(arr)):\n",
    "#         temp = arr[i-1]\n",
    "#         arr[i-1]=arr[i]\n",
    "#         arr[i]=temp\n",
    "#     return arr\n",
    "\n",
    "def Rotate(arr,d):\n",
    "    size = len(arr)\n",
    "    for _ in range(d):\n",
    "        first = arr[0]\n",
    "        for i in range(1,len(arr)):\n",
    "            arr[i-1]=arr[i]\n",
    "        arr[size-1] = first\n",
    "    return arr\n"
   ]
  },
  {
   "cell_type": "code",
   "execution_count": 92,
   "id": "6c4ad889",
   "metadata": {},
   "outputs": [
    {
     "data": {
      "text/plain": [
       "[10, 20, 30, 40]"
      ]
     },
     "execution_count": 92,
     "metadata": {},
     "output_type": "execute_result"
    }
   ],
   "source": [
    "Rotate([10,20,30,40],4)"
   ]
  },
  {
   "cell_type": "code",
   "execution_count": 62,
   "id": "ded12407",
   "metadata": {},
   "outputs": [
    {
     "data": {
      "text/plain": [
       "[1, 2, 3, 4, 5, 6, 7, 8, 9]"
      ]
     },
     "execution_count": 62,
     "metadata": {},
     "output_type": "execute_result"
    }
   ],
   "source": [
    "list(range(1,10))"
   ]
  },
  {
   "cell_type": "code",
   "execution_count": 70,
   "id": "e02bd7b1",
   "metadata": {},
   "outputs": [],
   "source": [
    "l= [1, 2, 3, 4, 5, 6, 7, 8, 9]\n",
    "\n",
    "l.append(l.pop(0))"
   ]
  },
  {
   "cell_type": "code",
   "execution_count": 71,
   "id": "d80e1634",
   "metadata": {},
   "outputs": [
    {
     "data": {
      "text/plain": [
       "[2, 3, 4, 5, 6, 7, 8, 9, 1]"
      ]
     },
     "execution_count": 71,
     "metadata": {},
     "output_type": "execute_result"
    }
   ],
   "source": [
    "l"
   ]
  },
  {
   "cell_type": "markdown",
   "id": "bb4c3113",
   "metadata": {},
   "source": [
    "# Rotate list in python"
   ]
  },
  {
   "cell_type": "code",
   "execution_count": 86,
   "id": "c02d5c96",
   "metadata": {},
   "outputs": [],
   "source": [
    "# def leftRotate(arr,d):\n",
    "#     if len(arr)>0:\n",
    "#         for _ in range(d):\n",
    "#             first = arr[0]    \n",
    "#             for i in range(len(arr)-1):\n",
    "#                 arr[i] = arr[i+1]\n",
    "#             arr[len(arr)-1] = first    \n",
    "#     return arr\n",
    "\n",
    "\n",
    "# def leftRotate(arr,d):\n",
    "#     if len(arr)>0:\n",
    "#         arr= arr[d:]+arr[:d]\n",
    "#     return arr\n",
    "\n",
    "def leftRotate(arr,d):\n",
    "    if len(arr)>0:\n",
    "        for i in range(d):\n",
    "            arr.append(arr.pop(0))\n",
    "    return arr\n",
    "\n",
    "\n"
   ]
  },
  {
   "cell_type": "code",
   "execution_count": 88,
   "id": "8ac6dbc6",
   "metadata": {},
   "outputs": [
    {
     "data": {
      "text/plain": [
       "[40, 50, 10, 20, 30]"
      ]
     },
     "execution_count": 88,
     "metadata": {},
     "output_type": "execute_result"
    }
   ],
   "source": [
    "leftRotate([10,20,30,40,50],3)"
   ]
  },
  {
   "cell_type": "code",
   "execution_count": 80,
   "id": "b33d3a68",
   "metadata": {},
   "outputs": [],
   "source": [
    "from collections import deque"
   ]
  },
  {
   "cell_type": "code",
   "execution_count": 61,
   "id": "c8819e1b",
   "metadata": {},
   "outputs": [],
   "source": [
    "l = deque([10,20,30,40])"
   ]
  },
  {
   "cell_type": "code",
   "execution_count": 84,
   "id": "6fbcf07f",
   "metadata": {},
   "outputs": [],
   "source": [
    "l.rotate(-1)"
   ]
  },
  {
   "cell_type": "code",
   "execution_count": 85,
   "id": "048b1234",
   "metadata": {},
   "outputs": [
    {
     "data": {
      "text/plain": [
       "deque([20, 30, 40, 10])"
      ]
     },
     "execution_count": 85,
     "metadata": {},
     "output_type": "execute_result"
    }
   ],
   "source": [
    "l"
   ]
  },
  {
   "cell_type": "code",
   "execution_count": 89,
   "id": "396af325",
   "metadata": {},
   "outputs": [
    {
     "data": {
      "text/plain": [
       "False"
      ]
     },
     "execution_count": 89,
     "metadata": {},
     "output_type": "execute_result"
    }
   ],
   "source": [
    "2>2"
   ]
  },
  {
   "cell_type": "code",
   "execution_count": 90,
   "id": "bb9e0256",
   "metadata": {},
   "outputs": [
    {
     "data": {
      "text/plain": [
       "False"
      ]
     },
     "execution_count": 90,
     "metadata": {},
     "output_type": "execute_result"
    }
   ],
   "source": [
    "2>2"
   ]
  },
  {
   "cell_type": "code",
   "execution_count": 91,
   "id": "b014199a",
   "metadata": {},
   "outputs": [
    {
     "data": {
      "text/plain": [
       "True"
      ]
     },
     "execution_count": 91,
     "metadata": {},
     "output_type": "execute_result"
    }
   ],
   "source": [
    "2>=2"
   ]
  },
  {
   "cell_type": "code",
   "execution_count": 92,
   "id": "d3f23ee7",
   "metadata": {},
   "outputs": [
    {
     "data": {
      "text/plain": [
       "True"
      ]
     },
     "execution_count": 92,
     "metadata": {},
     "output_type": "execute_result"
    }
   ],
   "source": [
    "3>2"
   ]
  },
  {
   "cell_type": "code",
   "execution_count": 164,
   "id": "5c1c22f3",
   "metadata": {},
   "outputs": [],
   "source": [
    "def Arrayinsert(arr,index,data):\n",
    "    if len(arr)<=index:\n",
    "        return \"Out of index\"\n",
    "    \n",
    "    for i in range(len(arr)-1,index-1,-1):\n",
    "        if arr[i]: \n",
    "            print(arr[i])\n",
    "            arr[i+1] = arr[i]\n",
    "    arr[index]=data\n",
    "    return arr\n",
    "    "
   ]
  },
  {
   "cell_type": "code",
   "execution_count": 168,
   "id": "4075c539",
   "metadata": {},
   "outputs": [
    {
     "data": {
      "text/plain": [
       "[1, 2, 3, 5, 4.5, 0]"
      ]
     },
     "execution_count": 168,
     "metadata": {},
     "output_type": "execute_result"
    }
   ],
   "source": [
    "Arrayinsert([1,2,3,5,0,0],4,4.5)"
   ]
  },
  {
   "cell_type": "code",
   "execution_count": 128,
   "id": "408f8322",
   "metadata": {},
   "outputs": [
    {
     "data": {
      "text/plain": [
       "[1, 2, 3, 4, 5, 0, 0]"
      ]
     },
     "execution_count": 128,
     "metadata": {},
     "output_type": "execute_result"
    }
   ],
   "source": [
    "l"
   ]
  },
  {
   "cell_type": "code",
   "execution_count": 12,
   "id": "d40367e8",
   "metadata": {},
   "outputs": [],
   "source": [
    "def findImmideateLarger(arr,data):\n",
    "    first = None\n",
    "    for item in arr:\n",
    "        if item > data:\n",
    "            if first == None:\n",
    "                    first = item\n",
    "            elif item < first:\n",
    "                first = item\n",
    "    return first\n",
    "            \n",
    "            \n",
    "            "
   ]
  },
  {
   "cell_type": "code",
   "execution_count": 15,
   "id": "7cfdb255",
   "metadata": {},
   "outputs": [
    {
     "data": {
      "text/plain": [
       "2"
      ]
     },
     "execution_count": 15,
     "metadata": {},
     "output_type": "execute_result"
    }
   ],
   "source": [
    "findImmideateLarger([1,2,3,4,5],1)\n",
    "    "
   ]
  },
  {
   "cell_type": "markdown",
   "id": "d721dea6",
   "metadata": {},
   "source": [
    "# lambda in python"
   ]
  },
  {
   "cell_type": "code",
   "execution_count": 1,
   "id": "16919ff2",
   "metadata": {},
   "outputs": [],
   "source": [
    "s = lambda n:n*2"
   ]
  },
  {
   "cell_type": "code",
   "execution_count": 2,
   "id": "98af65a6",
   "metadata": {},
   "outputs": [
    {
     "data": {
      "text/plain": [
       "4"
      ]
     },
     "execution_count": 2,
     "metadata": {},
     "output_type": "execute_result"
    }
   ],
   "source": [
    "s(2)"
   ]
  },
  {
   "cell_type": "code",
   "execution_count": 8,
   "id": "b20946d5",
   "metadata": {},
   "outputs": [],
   "source": [
    "def seprateEvenOdd(arr):\n",
    "    even =[]\n",
    "    odd = []\n",
    "    for item in arr:\n",
    "        even.append(item) if isEven(item) else odd.append(item)\n",
    "    return  even , odd   \n",
    "isEven = lambda item: item%2==0\n",
    "isOdd = lambda item: item%2!=0\n",
    "\n",
    "    "
   ]
  },
  {
   "cell_type": "code",
   "execution_count": 9,
   "id": "500be95d",
   "metadata": {},
   "outputs": [
    {
     "data": {
      "text/plain": [
       "([2, 4, 6], [1, 3, 5])"
      ]
     },
     "execution_count": 9,
     "metadata": {},
     "output_type": "execute_result"
    }
   ],
   "source": [
    "seprateEvenOdd([1,2,3,4,5,6])"
   ]
  },
  {
   "cell_type": "code",
   "execution_count": 12,
   "id": "dc1d3257",
   "metadata": {},
   "outputs": [
    {
     "name": "stdout",
     "output_type": "stream",
     "text": [
      "[2, 4, 6] [1, 3, 5]\n"
     ]
    }
   ],
   "source": [
    "arr = [1,2,3,4,5,6]\n",
    "even = list(filter(isEven,arr))\n",
    "odd = list(filter(isOdd,arr))\n",
    "print(even,odd)\n",
    "even = list(filter(lambda item: item%2==0,arr))\n",
    "odd = list(filter( lambda item: item%2!=0,arr))"
   ]
  },
  {
   "cell_type": "markdown",
   "id": "98b68509",
   "metadata": {},
   "source": [
    "# Map in python"
   ]
  },
  {
   "cell_type": "markdown",
   "id": "27f8a997",
   "metadata": {},
   "source": [
    "s = ['1' '2' '3' ,'4']"
   ]
  },
  {
   "cell_type": "code",
   "execution_count": 20,
   "id": "ed760ec8",
   "metadata": {},
   "outputs": [
    {
     "name": "stdout",
     "output_type": "stream",
     "text": [
      "[2, 6, 12, 20]\n"
     ]
    }
   ],
   "source": [
    "s = [1,2,3,4]\n",
    "d = [2,3,4,5]\n",
    "s = list(map(lambda x,y:x*y,s,d))\n",
    "print(s)"
   ]
  },
  {
   "cell_type": "code",
   "execution_count": 21,
   "id": "925906bc",
   "metadata": {},
   "outputs": [],
   "source": [
    "from functools import *"
   ]
  },
  {
   "cell_type": "code",
   "execution_count": 29,
   "id": "c9a86986",
   "metadata": {},
   "outputs": [
    {
     "name": "stdout",
     "output_type": "stream",
     "text": [
      "150\n"
     ]
    }
   ],
   "source": [
    "l=[10,20,30,40,50] \n",
    "result=reduce(lambda x,y:x+y,l) \n",
    "print(result) # 150"
   ]
  },
  {
   "cell_type": "markdown",
   "id": "8d97c770",
   "metadata": {},
   "source": [
    "# Decorator in python"
   ]
  },
  {
   "cell_type": "code",
   "execution_count": 51,
   "id": "ad9cac06",
   "metadata": {},
   "outputs": [],
   "source": [
    "def decor(func):\n",
    "    def inner(name):\n",
    "        if name == \"sunny\":\n",
    "            print(\"Give me your chut\")\n",
    "        else:\n",
    "            func(name)\n",
    "    return func(name)    "
   ]
  },
  {
   "cell_type": "code",
   "execution_count": 52,
   "id": "531aff23",
   "metadata": {},
   "outputs": [
    {
     "ename": "NameError",
     "evalue": "name 'name' is not defined",
     "output_type": "error",
     "traceback": [
      "\u001b[1;31m---------------------------------------------------------------------------\u001b[0m",
      "\u001b[1;31mNameError\u001b[0m                                 Traceback (most recent call last)",
      "\u001b[1;32mC:\\Users\\PRABHA~1\\AppData\\Local\\Temp/ipykernel_17508/175225793.py\u001b[0m in \u001b[0;36m<module>\u001b[1;34m\u001b[0m\n\u001b[1;32m----> 1\u001b[1;33m \u001b[1;33m@\u001b[0m\u001b[0mdecor\u001b[0m\u001b[1;33m\u001b[0m\u001b[1;33m\u001b[0m\u001b[0m\n\u001b[0m\u001b[0;32m      2\u001b[0m \u001b[1;32mdef\u001b[0m \u001b[0mwish\u001b[0m\u001b[1;33m(\u001b[0m\u001b[0mname\u001b[0m\u001b[1;33m)\u001b[0m\u001b[1;33m:\u001b[0m\u001b[1;33m\u001b[0m\u001b[1;33m\u001b[0m\u001b[0m\n\u001b[0;32m      3\u001b[0m     \u001b[0mprint\u001b[0m\u001b[1;33m(\u001b[0m\u001b[1;34mf\"Good morning {name}\"\u001b[0m\u001b[1;33m)\u001b[0m\u001b[1;33m\u001b[0m\u001b[1;33m\u001b[0m\u001b[0m\n",
      "\u001b[1;32mC:\\Users\\PRABHA~1\\AppData\\Local\\Temp/ipykernel_17508/3609327804.py\u001b[0m in \u001b[0;36mdecor\u001b[1;34m(func)\u001b[0m\n\u001b[0;32m      5\u001b[0m         \u001b[1;32melse\u001b[0m\u001b[1;33m:\u001b[0m\u001b[1;33m\u001b[0m\u001b[1;33m\u001b[0m\u001b[0m\n\u001b[0;32m      6\u001b[0m             \u001b[0mfunc\u001b[0m\u001b[1;33m(\u001b[0m\u001b[0mname\u001b[0m\u001b[1;33m)\u001b[0m\u001b[1;33m\u001b[0m\u001b[1;33m\u001b[0m\u001b[0m\n\u001b[1;32m----> 7\u001b[1;33m     \u001b[1;32mreturn\u001b[0m \u001b[0mfunc\u001b[0m\u001b[1;33m(\u001b[0m\u001b[0mname\u001b[0m\u001b[1;33m)\u001b[0m\u001b[1;33m\u001b[0m\u001b[1;33m\u001b[0m\u001b[0m\n\u001b[0m",
      "\u001b[1;31mNameError\u001b[0m: name 'name' is not defined"
     ]
    }
   ],
   "source": [
    "@decor\n",
    "def wish(name):\n",
    "    print(f\"Good morning {name}\")"
   ]
  },
  {
   "cell_type": "code",
   "execution_count": 54,
   "id": "c491f240",
   "metadata": {},
   "outputs": [
    {
     "ename": "TypeError",
     "evalue": "'NoneType' object is not callable",
     "output_type": "error",
     "traceback": [
      "\u001b[1;31m---------------------------------------------------------------------------\u001b[0m",
      "\u001b[1;31mTypeError\u001b[0m                                 Traceback (most recent call last)",
      "\u001b[1;32mC:\\Users\\PRABHA~1\\AppData\\Local\\Temp/ipykernel_17508/1355822625.py\u001b[0m in \u001b[0;36m<module>\u001b[1;34m\u001b[0m\n\u001b[1;32m----> 1\u001b[1;33m \u001b[0mwish\u001b[0m\u001b[1;33m(\u001b[0m\u001b[1;34m\"prabhu\"\u001b[0m\u001b[1;33m)\u001b[0m\u001b[1;33m\u001b[0m\u001b[1;33m\u001b[0m\u001b[0m\n\u001b[0m",
      "\u001b[1;31mTypeError\u001b[0m: 'NoneType' object is not callable"
     ]
    }
   ],
   "source": [
    "wish(\"prabhu\")"
   ]
  },
  {
   "cell_type": "code",
   "execution_count": 110,
   "id": "6f586c60",
   "metadata": {},
   "outputs": [],
   "source": [
    "import time\n",
    "\n",
    "def time_it(func):\n",
    "    def wrapper(*args,**kwargs):\n",
    "        start = time.time()\n",
    "        result = func(*args, **kwargs)\n",
    "        end = time.time()\n",
    "        print(f'it tooks {(end-start)} times')\n",
    "        return result\n",
    "    return wrapper\n",
    "    \n",
    "@time_it    \n",
    "def fun1():\n",
    "    start = time.time()\n",
    "    sum = 0\n",
    "    for i in range(1,10):\n",
    "        sum = sum+i\n",
    "    end = time.time()\n",
    "    print(sum)\n",
    "#     print(f'it tooks {(end-start)*1000} times')\n",
    "    \n",
    "\n",
    "@time_it\n",
    "def fun2():\n",
    "    sum = 0\n",
    "    for j in range(1,10):\n",
    "        for i in range(1,10):\n",
    "            sum = sum+i\n",
    "    print(sum)\n"
   ]
  },
  {
   "cell_type": "code",
   "execution_count": 112,
   "id": "233e781a",
   "metadata": {},
   "outputs": [
    {
     "name": "stdout",
     "output_type": "stream",
     "text": [
      "--Return--\n",
      "None\n",
      "> \u001b[1;32mc:\\users\\prabha~1\\appdata\\local\\temp\\ipykernel_17508\\360200956.py\u001b[0m(1)\u001b[0;36m<module>\u001b[1;34m()\u001b[0m\n",
      "\n",
      "ipdb> where\n",
      "\u001b[1;31m    [... skipping 21 hidden frame(s)]\u001b[0m\n",
      "\n",
      "None\n",
      "> \u001b[1;32mc:\\users\\prabha~1\\appdata\\local\\temp\\ipykernel_17508\\360200956.py\u001b[0m(1)\u001b[0;36m<module>\u001b[1;34m()\u001b[0m\n",
      "\n",
      "ipdb> n\n",
      "\u001b[1;31m    [... skipped 1 hidden frame]\u001b[0m\n",
      "\n",
      "\u001b[1;31m    [... skipped 1 hidden frame]\u001b[0m\n",
      "\n",
      "\u001b[1;31m    [... skipped 1 hidden frame]\u001b[0m\n",
      "\n",
      "\u001b[1;31m    [... skipped 1 hidden frame]\u001b[0m\n",
      "\n",
      "> \u001b[1;32md:\\python\\mainenv\\lib\\site-packages\\ipython\\core\\interactiveshell.py\u001b[0m(3353)\u001b[0;36mrun_ast_nodes\u001b[1;34m()\u001b[0m\n",
      "\u001b[1;32m   3351 \u001b[1;33m                    \u001b[0mto_run\u001b[0m\u001b[1;33m.\u001b[0m\u001b[0mappend\u001b[0m\u001b[1;33m(\u001b[0m\u001b[1;33m(\u001b[0m\u001b[0mnode\u001b[0m\u001b[1;33m,\u001b[0m \u001b[1;34m'single'\u001b[0m\u001b[1;33m)\u001b[0m\u001b[1;33m)\u001b[0m\u001b[1;33m\u001b[0m\u001b[1;33m\u001b[0m\u001b[0m\n",
      "\u001b[0m\u001b[1;32m   3352 \u001b[1;33m\u001b[1;33m\u001b[0m\u001b[0m\n",
      "\u001b[0m\u001b[1;32m-> 3353 \u001b[1;33m                \u001b[1;32mfor\u001b[0m \u001b[0mnode\u001b[0m\u001b[1;33m,\u001b[0m\u001b[0mmode\u001b[0m \u001b[1;32min\u001b[0m \u001b[0mto_run\u001b[0m\u001b[1;33m:\u001b[0m\u001b[1;33m\u001b[0m\u001b[1;33m\u001b[0m\u001b[0m\n",
      "\u001b[0m\u001b[1;32m   3354 \u001b[1;33m                    \u001b[1;32mif\u001b[0m \u001b[0mmode\u001b[0m \u001b[1;33m==\u001b[0m \u001b[1;34m'exec'\u001b[0m\u001b[1;33m:\u001b[0m\u001b[1;33m\u001b[0m\u001b[1;33m\u001b[0m\u001b[0m\n",
      "\u001b[0m\u001b[1;32m   3355 \u001b[1;33m                        \u001b[0mmod\u001b[0m \u001b[1;33m=\u001b[0m \u001b[0mModule\u001b[0m\u001b[1;33m(\u001b[0m\u001b[1;33m[\u001b[0m\u001b[0mnode\u001b[0m\u001b[1;33m]\u001b[0m\u001b[1;33m,\u001b[0m \u001b[1;33m[\u001b[0m\u001b[1;33m]\u001b[0m\u001b[1;33m)\u001b[0m\u001b[1;33m\u001b[0m\u001b[1;33m\u001b[0m\u001b[0m\n",
      "\u001b[0m\n",
      "ipdb> where\n",
      "  \u001b[1;32mc:\\users\\prabhat mishra\\appdata\\local\\programs\\python\\python37\\lib\\runpy.py\u001b[0m(193)\u001b[0;36m_run_module_as_main\u001b[1;34m()\u001b[0m\n",
      "\u001b[0;32m    191 \u001b[0m        \u001b[0msys\u001b[0m\u001b[1;33m.\u001b[0m\u001b[0margv\u001b[0m\u001b[1;33m[\u001b[0m\u001b[1;36m0\u001b[0m\u001b[1;33m]\u001b[0m \u001b[1;33m=\u001b[0m \u001b[0mmod_spec\u001b[0m\u001b[1;33m.\u001b[0m\u001b[0morigin\u001b[0m\u001b[1;33m\u001b[0m\u001b[1;33m\u001b[0m\u001b[0m\n",
      "\u001b[0;32m    192 \u001b[0m    return _run_code(code, main_globals, None,\n",
      "\u001b[1;32m--> 193 \u001b[1;33m                     \"__main__\", mod_spec)\n",
      "\u001b[0m\u001b[0;32m    194 \u001b[0m\u001b[1;33m\u001b[0m\u001b[0m\n",
      "\u001b[0;32m    195 \u001b[0mdef run_module(mod_name, init_globals=None,\n",
      "\n",
      "  \u001b[1;32mc:\\users\\prabhat mishra\\appdata\\local\\programs\\python\\python37\\lib\\runpy.py\u001b[0m(85)\u001b[0;36m_run_code\u001b[1;34m()\u001b[0m\n",
      "\u001b[0;32m     83 \u001b[0m                       \u001b[0m__package__\u001b[0m \u001b[1;33m=\u001b[0m \u001b[0mpkg_name\u001b[0m\u001b[1;33m,\u001b[0m\u001b[1;33m\u001b[0m\u001b[1;33m\u001b[0m\u001b[0m\n",
      "\u001b[0;32m     84 \u001b[0m                       __spec__ = mod_spec)\n",
      "\u001b[1;32m---> 85 \u001b[1;33m    \u001b[0mexec\u001b[0m\u001b[1;33m(\u001b[0m\u001b[0mcode\u001b[0m\u001b[1;33m,\u001b[0m \u001b[0mrun_globals\u001b[0m\u001b[1;33m)\u001b[0m\u001b[1;33m\u001b[0m\u001b[1;33m\u001b[0m\u001b[0m\n",
      "\u001b[0m\u001b[0;32m     86 \u001b[0m    \u001b[1;32mreturn\u001b[0m \u001b[0mrun_globals\u001b[0m\u001b[1;33m\u001b[0m\u001b[1;33m\u001b[0m\u001b[0m\n",
      "\u001b[0;32m     87 \u001b[0m\u001b[1;33m\u001b[0m\u001b[0m\n",
      "\n",
      "  \u001b[1;32md:\\python\\mainenv\\lib\\site-packages\\ipykernel_launcher.py\u001b[0m(16)\u001b[0;36m<module>\u001b[1;34m()\u001b[0m\n",
      "\u001b[0;32m     12 \u001b[0m    \u001b[1;32mif\u001b[0m \u001b[0msys\u001b[0m\u001b[1;33m.\u001b[0m\u001b[0mpath\u001b[0m\u001b[1;33m[\u001b[0m\u001b[1;36m0\u001b[0m\u001b[1;33m]\u001b[0m \u001b[1;33m==\u001b[0m \u001b[1;34m''\u001b[0m\u001b[1;33m:\u001b[0m\u001b[1;33m\u001b[0m\u001b[1;33m\u001b[0m\u001b[0m\n",
      "\u001b[0;32m     13 \u001b[0m        \u001b[1;32mdel\u001b[0m \u001b[0msys\u001b[0m\u001b[1;33m.\u001b[0m\u001b[0mpath\u001b[0m\u001b[1;33m[\u001b[0m\u001b[1;36m0\u001b[0m\u001b[1;33m]\u001b[0m\u001b[1;33m\u001b[0m\u001b[1;33m\u001b[0m\u001b[0m\n",
      "\u001b[0;32m     14 \u001b[0m\u001b[1;33m\u001b[0m\u001b[0m\n",
      "\u001b[0;32m     15 \u001b[0m    \u001b[1;32mfrom\u001b[0m \u001b[0mipykernel\u001b[0m \u001b[1;32mimport\u001b[0m \u001b[0mkernelapp\u001b[0m \u001b[1;32mas\u001b[0m \u001b[0mapp\u001b[0m\u001b[1;33m\u001b[0m\u001b[1;33m\u001b[0m\u001b[0m\n",
      "\u001b[1;32m---> 16 \u001b[1;33m    \u001b[0mapp\u001b[0m\u001b[1;33m.\u001b[0m\u001b[0mlaunch_new_instance\u001b[0m\u001b[1;33m(\u001b[0m\u001b[1;33m)\u001b[0m\u001b[1;33m\u001b[0m\u001b[1;33m\u001b[0m\u001b[0m\n",
      "\u001b[0m\n",
      "  \u001b[1;32md:\\python\\mainenv\\lib\\site-packages\\traitlets\\config\\application.py\u001b[0m(845)\u001b[0;36mlaunch_instance\u001b[1;34m()\u001b[0m\n",
      "\u001b[0;32m    843 \u001b[0m        \u001b[0mapp\u001b[0m \u001b[1;33m=\u001b[0m \u001b[0mcls\u001b[0m\u001b[1;33m.\u001b[0m\u001b[0minstance\u001b[0m\u001b[1;33m(\u001b[0m\u001b[1;33m**\u001b[0m\u001b[0mkwargs\u001b[0m\u001b[1;33m)\u001b[0m\u001b[1;33m\u001b[0m\u001b[1;33m\u001b[0m\u001b[0m\n",
      "\u001b[0;32m    844 \u001b[0m        \u001b[0mapp\u001b[0m\u001b[1;33m.\u001b[0m\u001b[0minitialize\u001b[0m\u001b[1;33m(\u001b[0m\u001b[0margv\u001b[0m\u001b[1;33m)\u001b[0m\u001b[1;33m\u001b[0m\u001b[1;33m\u001b[0m\u001b[0m\n",
      "\u001b[1;32m--> 845 \u001b[1;33m        \u001b[0mapp\u001b[0m\u001b[1;33m.\u001b[0m\u001b[0mstart\u001b[0m\u001b[1;33m(\u001b[0m\u001b[1;33m)\u001b[0m\u001b[1;33m\u001b[0m\u001b[1;33m\u001b[0m\u001b[0m\n",
      "\u001b[0m\u001b[0;32m    846 \u001b[0m\u001b[1;33m\u001b[0m\u001b[0m\n",
      "\u001b[0;32m    847 \u001b[0m\u001b[1;31m#-----------------------------------------------------------------------------\u001b[0m\u001b[1;33m\u001b[0m\u001b[1;33m\u001b[0m\u001b[1;33m\u001b[0m\u001b[0m\n",
      "\n",
      "  \u001b[1;32md:\\python\\mainenv\\lib\\site-packages\\ipykernel\\kernelapp.py\u001b[0m(667)\u001b[0;36mstart\u001b[1;34m()\u001b[0m\n",
      "\u001b[0;32m    665 \u001b[0m        \u001b[1;32melse\u001b[0m\u001b[1;33m:\u001b[0m\u001b[1;33m\u001b[0m\u001b[1;33m\u001b[0m\u001b[0m\n",
      "\u001b[0;32m    666 \u001b[0m            \u001b[1;32mtry\u001b[0m\u001b[1;33m:\u001b[0m\u001b[1;33m\u001b[0m\u001b[1;33m\u001b[0m\u001b[0m\n",
      "\u001b[1;32m--> 667 \u001b[1;33m                \u001b[0mself\u001b[0m\u001b[1;33m.\u001b[0m\u001b[0mio_loop\u001b[0m\u001b[1;33m.\u001b[0m\u001b[0mstart\u001b[0m\u001b[1;33m(\u001b[0m\u001b[1;33m)\u001b[0m\u001b[1;33m\u001b[0m\u001b[1;33m\u001b[0m\u001b[0m\n",
      "\u001b[0m\u001b[0;32m    668 \u001b[0m            \u001b[1;32mexcept\u001b[0m \u001b[0mKeyboardInterrupt\u001b[0m\u001b[1;33m:\u001b[0m\u001b[1;33m\u001b[0m\u001b[1;33m\u001b[0m\u001b[0m\n",
      "\u001b[0;32m    669 \u001b[0m                \u001b[1;32mpass\u001b[0m\u001b[1;33m\u001b[0m\u001b[1;33m\u001b[0m\u001b[0m\n",
      "\n",
      "  \u001b[1;32md:\\python\\mainenv\\lib\\site-packages\\tornado\\platform\\asyncio.py\u001b[0m(199)\u001b[0;36mstart\u001b[1;34m()\u001b[0m\n",
      "\u001b[0;32m    197 \u001b[0m            \u001b[0mself\u001b[0m\u001b[1;33m.\u001b[0m\u001b[0m_setup_logging\u001b[0m\u001b[1;33m(\u001b[0m\u001b[1;33m)\u001b[0m\u001b[1;33m\u001b[0m\u001b[1;33m\u001b[0m\u001b[0m\n",
      "\u001b[0;32m    198 \u001b[0m            \u001b[0masyncio\u001b[0m\u001b[1;33m.\u001b[0m\u001b[0mset_event_loop\u001b[0m\u001b[1;33m(\u001b[0m\u001b[0mself\u001b[0m\u001b[1;33m.\u001b[0m\u001b[0masyncio_loop\u001b[0m\u001b[1;33m)\u001b[0m\u001b[1;33m\u001b[0m\u001b[1;33m\u001b[0m\u001b[0m\n",
      "\u001b[1;32m--> 199 \u001b[1;33m            \u001b[0mself\u001b[0m\u001b[1;33m.\u001b[0m\u001b[0masyncio_loop\u001b[0m\u001b[1;33m.\u001b[0m\u001b[0mrun_forever\u001b[0m\u001b[1;33m(\u001b[0m\u001b[1;33m)\u001b[0m\u001b[1;33m\u001b[0m\u001b[1;33m\u001b[0m\u001b[0m\n",
      "\u001b[0m\u001b[0;32m    200 \u001b[0m        \u001b[1;32mfinally\u001b[0m\u001b[1;33m:\u001b[0m\u001b[1;33m\u001b[0m\u001b[1;33m\u001b[0m\u001b[0m\n",
      "\u001b[0;32m    201 \u001b[0m            \u001b[0masyncio\u001b[0m\u001b[1;33m.\u001b[0m\u001b[0mset_event_loop\u001b[0m\u001b[1;33m(\u001b[0m\u001b[0mold_loop\u001b[0m\u001b[1;33m)\u001b[0m\u001b[1;33m\u001b[0m\u001b[1;33m\u001b[0m\u001b[0m\n",
      "\n",
      "  \u001b[1;32mc:\\users\\prabhat mishra\\appdata\\local\\programs\\python\\python37\\lib\\asyncio\\base_events.py\u001b[0m(541)\u001b[0;36mrun_forever\u001b[1;34m()\u001b[0m\n",
      "\u001b[0;32m    539 \u001b[0m            \u001b[0mevents\u001b[0m\u001b[1;33m.\u001b[0m\u001b[0m_set_running_loop\u001b[0m\u001b[1;33m(\u001b[0m\u001b[0mself\u001b[0m\u001b[1;33m)\u001b[0m\u001b[1;33m\u001b[0m\u001b[1;33m\u001b[0m\u001b[0m\n",
      "\u001b[0;32m    540 \u001b[0m            \u001b[1;32mwhile\u001b[0m \u001b[1;32mTrue\u001b[0m\u001b[1;33m:\u001b[0m\u001b[1;33m\u001b[0m\u001b[1;33m\u001b[0m\u001b[0m\n",
      "\u001b[1;32m--> 541 \u001b[1;33m                \u001b[0mself\u001b[0m\u001b[1;33m.\u001b[0m\u001b[0m_run_once\u001b[0m\u001b[1;33m(\u001b[0m\u001b[1;33m)\u001b[0m\u001b[1;33m\u001b[0m\u001b[1;33m\u001b[0m\u001b[0m\n",
      "\u001b[0m\u001b[0;32m    542 \u001b[0m                \u001b[1;32mif\u001b[0m \u001b[0mself\u001b[0m\u001b[1;33m.\u001b[0m\u001b[0m_stopping\u001b[0m\u001b[1;33m:\u001b[0m\u001b[1;33m\u001b[0m\u001b[1;33m\u001b[0m\u001b[0m\n",
      "\u001b[0;32m    543 \u001b[0m                    \u001b[1;32mbreak\u001b[0m\u001b[1;33m\u001b[0m\u001b[1;33m\u001b[0m\u001b[0m\n",
      "\n",
      "  \u001b[1;32mc:\\users\\prabhat mishra\\appdata\\local\\programs\\python\\python37\\lib\\asyncio\\base_events.py\u001b[0m(1786)\u001b[0;36m_run_once\u001b[1;34m()\u001b[0m\n",
      "\u001b[0;32m   1784 \u001b[0m                    \u001b[0mself\u001b[0m\u001b[1;33m.\u001b[0m\u001b[0m_current_handle\u001b[0m \u001b[1;33m=\u001b[0m \u001b[1;32mNone\u001b[0m\u001b[1;33m\u001b[0m\u001b[1;33m\u001b[0m\u001b[0m\n",
      "\u001b[0;32m   1785 \u001b[0m            \u001b[1;32melse\u001b[0m\u001b[1;33m:\u001b[0m\u001b[1;33m\u001b[0m\u001b[1;33m\u001b[0m\u001b[0m\n",
      "\u001b[1;32m-> 1786 \u001b[1;33m                \u001b[0mhandle\u001b[0m\u001b[1;33m.\u001b[0m\u001b[0m_run\u001b[0m\u001b[1;33m(\u001b[0m\u001b[1;33m)\u001b[0m\u001b[1;33m\u001b[0m\u001b[1;33m\u001b[0m\u001b[0m\n",
      "\u001b[0m\u001b[0;32m   1787 \u001b[0m        \u001b[0mhandle\u001b[0m \u001b[1;33m=\u001b[0m \u001b[1;32mNone\u001b[0m  \u001b[1;31m# Needed to break cycles when an exception occurs.\u001b[0m\u001b[1;33m\u001b[0m\u001b[1;33m\u001b[0m\u001b[0m\n",
      "\u001b[0;32m   1788 \u001b[0m\u001b[1;33m\u001b[0m\u001b[0m\n",
      "\n",
      "  \u001b[1;32mc:\\users\\prabhat mishra\\appdata\\local\\programs\\python\\python37\\lib\\asyncio\\events.py\u001b[0m(88)\u001b[0;36m_run\u001b[1;34m()\u001b[0m\n",
      "\u001b[0;32m     86 \u001b[0m    \u001b[1;32mdef\u001b[0m \u001b[0m_run\u001b[0m\u001b[1;33m(\u001b[0m\u001b[0mself\u001b[0m\u001b[1;33m)\u001b[0m\u001b[1;33m:\u001b[0m\u001b[1;33m\u001b[0m\u001b[1;33m\u001b[0m\u001b[0m\n",
      "\u001b[0;32m     87 \u001b[0m        \u001b[1;32mtry\u001b[0m\u001b[1;33m:\u001b[0m\u001b[1;33m\u001b[0m\u001b[1;33m\u001b[0m\u001b[0m\n",
      "\u001b[1;32m---> 88 \u001b[1;33m            \u001b[0mself\u001b[0m\u001b[1;33m.\u001b[0m\u001b[0m_context\u001b[0m\u001b[1;33m.\u001b[0m\u001b[0mrun\u001b[0m\u001b[1;33m(\u001b[0m\u001b[0mself\u001b[0m\u001b[1;33m.\u001b[0m\u001b[0m_callback\u001b[0m\u001b[1;33m,\u001b[0m \u001b[1;33m*\u001b[0m\u001b[0mself\u001b[0m\u001b[1;33m.\u001b[0m\u001b[0m_args\u001b[0m\u001b[1;33m)\u001b[0m\u001b[1;33m\u001b[0m\u001b[1;33m\u001b[0m\u001b[0m\n",
      "\u001b[0m\u001b[0;32m     89 \u001b[0m        \u001b[1;32mexcept\u001b[0m \u001b[0mException\u001b[0m \u001b[1;32mas\u001b[0m \u001b[0mexc\u001b[0m\u001b[1;33m:\u001b[0m\u001b[1;33m\u001b[0m\u001b[1;33m\u001b[0m\u001b[0m\n",
      "\u001b[0;32m     90 \u001b[0m            cb = format_helpers._format_callback_source(\n",
      "\n",
      "  \u001b[1;32md:\\python\\mainenv\\lib\\site-packages\\ipykernel\\kernelbase.py\u001b[0m(456)\u001b[0;36mdispatch_queue\u001b[1;34m()\u001b[0m\n",
      "\u001b[0;32m    454 \u001b[0m        \u001b[1;32mwhile\u001b[0m \u001b[1;32mTrue\u001b[0m\u001b[1;33m:\u001b[0m\u001b[1;33m\u001b[0m\u001b[1;33m\u001b[0m\u001b[0m\n",
      "\u001b[0;32m    455 \u001b[0m            \u001b[1;32mtry\u001b[0m\u001b[1;33m:\u001b[0m\u001b[1;33m\u001b[0m\u001b[1;33m\u001b[0m\u001b[0m\n",
      "\u001b[1;32m--> 456 \u001b[1;33m                \u001b[1;32mawait\u001b[0m \u001b[0mself\u001b[0m\u001b[1;33m.\u001b[0m\u001b[0mprocess_one\u001b[0m\u001b[1;33m(\u001b[0m\u001b[1;33m)\u001b[0m\u001b[1;33m\u001b[0m\u001b[1;33m\u001b[0m\u001b[0m\n",
      "\u001b[0m\u001b[0;32m    457 \u001b[0m            \u001b[1;32mexcept\u001b[0m \u001b[0mException\u001b[0m\u001b[1;33m:\u001b[0m\u001b[1;33m\u001b[0m\u001b[1;33m\u001b[0m\u001b[0m\n",
      "\u001b[0;32m    458 \u001b[0m                \u001b[0mself\u001b[0m\u001b[1;33m.\u001b[0m\u001b[0mlog\u001b[0m\u001b[1;33m.\u001b[0m\u001b[0mexception\u001b[0m\u001b[1;33m(\u001b[0m\u001b[1;34m\"Error in message handler\"\u001b[0m\u001b[1;33m)\u001b[0m\u001b[1;33m\u001b[0m\u001b[1;33m\u001b[0m\u001b[0m\n",
      "\n",
      "  \u001b[1;32md:\\python\\mainenv\\lib\\site-packages\\ipykernel\\kernelbase.py\u001b[0m(445)\u001b[0;36mprocess_one\u001b[1;34m()\u001b[0m\n",
      "\u001b[0;32m    443 \u001b[0m            \u001b[1;32mexcept\u001b[0m \u001b[0masyncio\u001b[0m\u001b[1;33m.\u001b[0m\u001b[0mQueueEmpty\u001b[0m\u001b[1;33m:\u001b[0m\u001b[1;33m\u001b[0m\u001b[1;33m\u001b[0m\u001b[0m\n",
      "\u001b[0;32m    444 \u001b[0m                \u001b[1;32mreturn\u001b[0m \u001b[1;32mNone\u001b[0m\u001b[1;33m\u001b[0m\u001b[1;33m\u001b[0m\u001b[0m\n",
      "\u001b[1;32m--> 445 \u001b[1;33m        \u001b[1;32mawait\u001b[0m \u001b[0mdispatch\u001b[0m\u001b[1;33m(\u001b[0m\u001b[1;33m*\u001b[0m\u001b[0margs\u001b[0m\u001b[1;33m)\u001b[0m\u001b[1;33m\u001b[0m\u001b[1;33m\u001b[0m\u001b[0m\n",
      "\u001b[0m\u001b[0;32m    446 \u001b[0m\u001b[1;33m\u001b[0m\u001b[0m\n",
      "\u001b[0;32m    447 \u001b[0m    \u001b[1;32masync\u001b[0m \u001b[1;32mdef\u001b[0m \u001b[0mdispatch_queue\u001b[0m\u001b[1;33m(\u001b[0m\u001b[0mself\u001b[0m\u001b[1;33m)\u001b[0m\u001b[1;33m:\u001b[0m\u001b[1;33m\u001b[0m\u001b[1;33m\u001b[0m\u001b[0m\n",
      "\n",
      "  \u001b[1;32md:\\python\\mainenv\\lib\\site-packages\\ipykernel\\kernelbase.py\u001b[0m(352)\u001b[0;36mdispatch_shell\u001b[1;34m()\u001b[0m\n",
      "\u001b[0;32m    350 \u001b[0m                \u001b[0mresult\u001b[0m \u001b[1;33m=\u001b[0m \u001b[0mhandler\u001b[0m\u001b[1;33m(\u001b[0m\u001b[0mself\u001b[0m\u001b[1;33m.\u001b[0m\u001b[0mshell_stream\u001b[0m\u001b[1;33m,\u001b[0m \u001b[0midents\u001b[0m\u001b[1;33m,\u001b[0m \u001b[0mmsg\u001b[0m\u001b[1;33m)\u001b[0m\u001b[1;33m\u001b[0m\u001b[1;33m\u001b[0m\u001b[0m\n",
      "\u001b[0;32m    351 \u001b[0m                \u001b[1;32mif\u001b[0m \u001b[0minspect\u001b[0m\u001b[1;33m.\u001b[0m\u001b[0misawaitable\u001b[0m\u001b[1;33m(\u001b[0m\u001b[0mresult\u001b[0m\u001b[1;33m)\u001b[0m\u001b[1;33m:\u001b[0m\u001b[1;33m\u001b[0m\u001b[1;33m\u001b[0m\u001b[0m\n",
      "\u001b[1;32m--> 352 \u001b[1;33m                    \u001b[1;32mawait\u001b[0m \u001b[0mresult\u001b[0m\u001b[1;33m\u001b[0m\u001b[1;33m\u001b[0m\u001b[0m\n",
      "\u001b[0m\u001b[0;32m    353 \u001b[0m            \u001b[1;32mexcept\u001b[0m \u001b[0mException\u001b[0m\u001b[1;33m:\u001b[0m\u001b[1;33m\u001b[0m\u001b[1;33m\u001b[0m\u001b[0m\n",
      "\u001b[0;32m    354 \u001b[0m                \u001b[0mself\u001b[0m\u001b[1;33m.\u001b[0m\u001b[0mlog\u001b[0m\u001b[1;33m.\u001b[0m\u001b[0merror\u001b[0m\u001b[1;33m(\u001b[0m\u001b[1;34m\"Exception in message handler:\"\u001b[0m\u001b[1;33m,\u001b[0m \u001b[0mexc_info\u001b[0m\u001b[1;33m=\u001b[0m\u001b[1;32mTrue\u001b[0m\u001b[1;33m)\u001b[0m\u001b[1;33m\u001b[0m\u001b[1;33m\u001b[0m\u001b[0m\n",
      "\n",
      "  \u001b[1;32md:\\python\\mainenv\\lib\\site-packages\\ipykernel\\kernelbase.py\u001b[0m(647)\u001b[0;36mexecute_request\u001b[1;34m()\u001b[0m\n",
      "\u001b[0;32m    645 \u001b[0m        )\n",
      "\u001b[0;32m    646 \u001b[0m        \u001b[1;32mif\u001b[0m \u001b[0minspect\u001b[0m\u001b[1;33m.\u001b[0m\u001b[0misawaitable\u001b[0m\u001b[1;33m(\u001b[0m\u001b[0mreply_content\u001b[0m\u001b[1;33m)\u001b[0m\u001b[1;33m:\u001b[0m\u001b[1;33m\u001b[0m\u001b[1;33m\u001b[0m\u001b[0m\n",
      "\u001b[1;32m--> 647 \u001b[1;33m            \u001b[0mreply_content\u001b[0m \u001b[1;33m=\u001b[0m \u001b[1;32mawait\u001b[0m \u001b[0mreply_content\u001b[0m\u001b[1;33m\u001b[0m\u001b[1;33m\u001b[0m\u001b[0m\n",
      "\u001b[0m\u001b[0;32m    648 \u001b[0m\u001b[1;33m\u001b[0m\u001b[0m\n",
      "\u001b[0;32m    649 \u001b[0m        \u001b[1;31m# Flush output before sending the reply.\u001b[0m\u001b[1;33m\u001b[0m\u001b[1;33m\u001b[0m\u001b[1;33m\u001b[0m\u001b[0m\n",
      "\n",
      "  \u001b[1;32md:\\python\\mainenv\\lib\\site-packages\\ipykernel\\ipkernel.py\u001b[0m(345)\u001b[0;36mdo_execute\u001b[1;34m()\u001b[0m\n",
      "\u001b[0;32m    343 \u001b[0m                \u001b[1;31m# make synchronous call,\u001b[0m\u001b[1;33m\u001b[0m\u001b[1;33m\u001b[0m\u001b[1;33m\u001b[0m\u001b[0m\n",
      "\u001b[0;32m    344 \u001b[0m                \u001b[1;31m# letting shell dispatch to loop runners\u001b[0m\u001b[1;33m\u001b[0m\u001b[1;33m\u001b[0m\u001b[1;33m\u001b[0m\u001b[0m\n",
      "\u001b[1;32m--> 345 \u001b[1;33m                \u001b[0mres\u001b[0m \u001b[1;33m=\u001b[0m \u001b[0mshell\u001b[0m\u001b[1;33m.\u001b[0m\u001b[0mrun_cell\u001b[0m\u001b[1;33m(\u001b[0m\u001b[0mcode\u001b[0m\u001b[1;33m,\u001b[0m \u001b[0mstore_history\u001b[0m\u001b[1;33m=\u001b[0m\u001b[0mstore_history\u001b[0m\u001b[1;33m,\u001b[0m \u001b[0msilent\u001b[0m\u001b[1;33m=\u001b[0m\u001b[0msilent\u001b[0m\u001b[1;33m)\u001b[0m\u001b[1;33m\u001b[0m\u001b[1;33m\u001b[0m\u001b[0m\n",
      "\u001b[0m\u001b[0;32m    346 \u001b[0m        \u001b[1;32mfinally\u001b[0m\u001b[1;33m:\u001b[0m\u001b[1;33m\u001b[0m\u001b[1;33m\u001b[0m\u001b[0m\n",
      "\u001b[0;32m    347 \u001b[0m            \u001b[0mself\u001b[0m\u001b[1;33m.\u001b[0m\u001b[0m_restore_input\u001b[0m\u001b[1;33m(\u001b[0m\u001b[1;33m)\u001b[0m\u001b[1;33m\u001b[0m\u001b[1;33m\u001b[0m\u001b[0m\n",
      "\n",
      "  \u001b[1;32md:\\python\\mainenv\\lib\\site-packages\\ipykernel\\zmqshell.py\u001b[0m(532)\u001b[0;36mrun_cell\u001b[1;34m()\u001b[0m\n",
      "\u001b[0;32m    530 \u001b[0m    \u001b[1;32mdef\u001b[0m \u001b[0mrun_cell\u001b[0m\u001b[1;33m(\u001b[0m\u001b[0mself\u001b[0m\u001b[1;33m,\u001b[0m \u001b[1;33m*\u001b[0m\u001b[0margs\u001b[0m\u001b[1;33m,\u001b[0m \u001b[1;33m**\u001b[0m\u001b[0mkwargs\u001b[0m\u001b[1;33m)\u001b[0m\u001b[1;33m:\u001b[0m\u001b[1;33m\u001b[0m\u001b[1;33m\u001b[0m\u001b[0m\n",
      "\u001b[0;32m    531 \u001b[0m        \u001b[0mself\u001b[0m\u001b[1;33m.\u001b[0m\u001b[0m_last_traceback\u001b[0m \u001b[1;33m=\u001b[0m \u001b[1;32mNone\u001b[0m\u001b[1;33m\u001b[0m\u001b[1;33m\u001b[0m\u001b[0m\n",
      "\u001b[1;32m--> 532 \u001b[1;33m        \u001b[1;32mreturn\u001b[0m \u001b[0msuper\u001b[0m\u001b[1;33m(\u001b[0m\u001b[0mZMQInteractiveShell\u001b[0m\u001b[1;33m,\u001b[0m \u001b[0mself\u001b[0m\u001b[1;33m)\u001b[0m\u001b[1;33m.\u001b[0m\u001b[0mrun_cell\u001b[0m\u001b[1;33m(\u001b[0m\u001b[1;33m*\u001b[0m\u001b[0margs\u001b[0m\u001b[1;33m,\u001b[0m \u001b[1;33m**\u001b[0m\u001b[0mkwargs\u001b[0m\u001b[1;33m)\u001b[0m\u001b[1;33m\u001b[0m\u001b[1;33m\u001b[0m\u001b[0m\n",
      "\u001b[0m\u001b[0;32m    533 \u001b[0m\u001b[1;33m\u001b[0m\u001b[0m\n",
      "\u001b[0;32m    534 \u001b[0m    \u001b[1;32mdef\u001b[0m \u001b[0m_showtraceback\u001b[0m\u001b[1;33m(\u001b[0m\u001b[0mself\u001b[0m\u001b[1;33m,\u001b[0m \u001b[0metype\u001b[0m\u001b[1;33m,\u001b[0m \u001b[0mevalue\u001b[0m\u001b[1;33m,\u001b[0m \u001b[0mstb\u001b[0m\u001b[1;33m)\u001b[0m\u001b[1;33m:\u001b[0m\u001b[1;33m\u001b[0m\u001b[1;33m\u001b[0m\u001b[0m\n",
      "\n",
      "  \u001b[1;32md:\\python\\mainenv\\lib\\site-packages\\ipython\\core\\interactiveshell.py\u001b[0m(2899)\u001b[0;36mrun_cell\u001b[1;34m()\u001b[0m\n",
      "\u001b[0;32m   2897 \u001b[0m        \u001b[1;32mtry\u001b[0m\u001b[1;33m:\u001b[0m\u001b[1;33m\u001b[0m\u001b[1;33m\u001b[0m\u001b[0m\n",
      "\u001b[0;32m   2898 \u001b[0m            result = self._run_cell(\n",
      "\u001b[1;32m-> 2899 \u001b[1;33m                raw_cell, store_history, silent, shell_futures)\n",
      "\u001b[0m\u001b[0;32m   2900 \u001b[0m        \u001b[1;32mfinally\u001b[0m\u001b[1;33m:\u001b[0m\u001b[1;33m\u001b[0m\u001b[1;33m\u001b[0m\u001b[0m\n",
      "\u001b[0;32m   2901 \u001b[0m            \u001b[0mself\u001b[0m\u001b[1;33m.\u001b[0m\u001b[0mevents\u001b[0m\u001b[1;33m.\u001b[0m\u001b[0mtrigger\u001b[0m\u001b[1;33m(\u001b[0m\u001b[1;34m'post_execute'\u001b[0m\u001b[1;33m)\u001b[0m\u001b[1;33m\u001b[0m\u001b[1;33m\u001b[0m\u001b[0m\n",
      "\n",
      "  \u001b[1;32md:\\python\\mainenv\\lib\\site-packages\\ipython\\core\\interactiveshell.py\u001b[0m(2944)\u001b[0;36m_run_cell\u001b[1;34m()\u001b[0m\n",
      "\u001b[0;32m   2942 \u001b[0m\u001b[1;33m\u001b[0m\u001b[0m\n",
      "\u001b[0;32m   2943 \u001b[0m        \u001b[1;32mtry\u001b[0m\u001b[1;33m:\u001b[0m\u001b[1;33m\u001b[0m\u001b[1;33m\u001b[0m\u001b[0m\n",
      "\u001b[1;32m-> 2944 \u001b[1;33m            \u001b[1;32mreturn\u001b[0m \u001b[0mrunner\u001b[0m\u001b[1;33m(\u001b[0m\u001b[0mcoro\u001b[0m\u001b[1;33m)\u001b[0m\u001b[1;33m\u001b[0m\u001b[1;33m\u001b[0m\u001b[0m\n",
      "\u001b[0m\u001b[0;32m   2945 \u001b[0m        \u001b[1;32mexcept\u001b[0m \u001b[0mBaseException\u001b[0m \u001b[1;32mas\u001b[0m \u001b[0me\u001b[0m\u001b[1;33m:\u001b[0m\u001b[1;33m\u001b[0m\u001b[1;33m\u001b[0m\u001b[0m\n",
      "\u001b[0;32m   2946 \u001b[0m            \u001b[0minfo\u001b[0m \u001b[1;33m=\u001b[0m \u001b[0mExecutionInfo\u001b[0m\u001b[1;33m(\u001b[0m\u001b[0mraw_cell\u001b[0m\u001b[1;33m,\u001b[0m \u001b[0mstore_history\u001b[0m\u001b[1;33m,\u001b[0m \u001b[0msilent\u001b[0m\u001b[1;33m,\u001b[0m \u001b[0mshell_futures\u001b[0m\u001b[1;33m)\u001b[0m\u001b[1;33m\u001b[0m\u001b[1;33m\u001b[0m\u001b[0m\n",
      "\n",
      "  \u001b[1;32md:\\python\\mainenv\\lib\\site-packages\\ipython\\core\\async_helpers.py\u001b[0m(68)\u001b[0;36m_pseudo_sync_runner\u001b[1;34m()\u001b[0m\n",
      "\u001b[0;32m     66 \u001b[0m    \"\"\"\n",
      "\u001b[0;32m     67 \u001b[0m    \u001b[1;32mtry\u001b[0m\u001b[1;33m:\u001b[0m\u001b[1;33m\u001b[0m\u001b[1;33m\u001b[0m\u001b[0m\n",
      "\u001b[1;32m---> 68 \u001b[1;33m        \u001b[0mcoro\u001b[0m\u001b[1;33m.\u001b[0m\u001b[0msend\u001b[0m\u001b[1;33m(\u001b[0m\u001b[1;32mNone\u001b[0m\u001b[1;33m)\u001b[0m\u001b[1;33m\u001b[0m\u001b[1;33m\u001b[0m\u001b[0m\n",
      "\u001b[0m\u001b[0;32m     69 \u001b[0m    \u001b[1;32mexcept\u001b[0m \u001b[0mStopIteration\u001b[0m \u001b[1;32mas\u001b[0m \u001b[0mexc\u001b[0m\u001b[1;33m:\u001b[0m\u001b[1;33m\u001b[0m\u001b[1;33m\u001b[0m\u001b[0m\n",
      "\u001b[0;32m     70 \u001b[0m        \u001b[1;32mreturn\u001b[0m \u001b[0mexc\u001b[0m\u001b[1;33m.\u001b[0m\u001b[0mvalue\u001b[0m\u001b[1;33m\u001b[0m\u001b[1;33m\u001b[0m\u001b[0m\n",
      "\n",
      "  \u001b[1;32md:\\python\\mainenv\\lib\\site-packages\\ipython\\core\\interactiveshell.py\u001b[0m(3170)\u001b[0;36mrun_cell_async\u001b[1;34m()\u001b[0m\n",
      "\u001b[0;32m   3168 \u001b[0m\u001b[1;33m\u001b[0m\u001b[0m\n",
      "\u001b[0;32m   3169 \u001b[0m                has_raised = await self.run_ast_nodes(code_ast.body, cell_name,\n",
      "\u001b[1;32m-> 3170 \u001b[1;33m                       interactivity=interactivity, compiler=compiler, result=result)\n",
      "\u001b[0m\u001b[0;32m   3171 \u001b[0m\u001b[1;33m\u001b[0m\u001b[0m\n",
      "\u001b[0;32m   3172 \u001b[0m                \u001b[0mself\u001b[0m\u001b[1;33m.\u001b[0m\u001b[0mlast_execution_succeeded\u001b[0m \u001b[1;33m=\u001b[0m \u001b[1;32mnot\u001b[0m \u001b[0mhas_raised\u001b[0m\u001b[1;33m\u001b[0m\u001b[1;33m\u001b[0m\u001b[0m\n",
      "\n",
      "> \u001b[1;32md:\\python\\mainenv\\lib\\site-packages\\ipython\\core\\interactiveshell.py\u001b[0m(3353)\u001b[0;36mrun_ast_nodes\u001b[1;34m()\u001b[0m\n",
      "\u001b[1;32m   3351 \u001b[1;33m                    \u001b[0mto_run\u001b[0m\u001b[1;33m.\u001b[0m\u001b[0mappend\u001b[0m\u001b[1;33m(\u001b[0m\u001b[1;33m(\u001b[0m\u001b[0mnode\u001b[0m\u001b[1;33m,\u001b[0m \u001b[1;34m'single'\u001b[0m\u001b[1;33m)\u001b[0m\u001b[1;33m)\u001b[0m\u001b[1;33m\u001b[0m\u001b[1;33m\u001b[0m\u001b[0m\n",
      "\u001b[0m\u001b[1;32m   3352 \u001b[1;33m\u001b[1;33m\u001b[0m\u001b[0m\n",
      "\u001b[0m\u001b[1;32m-> 3353 \u001b[1;33m                \u001b[1;32mfor\u001b[0m \u001b[0mnode\u001b[0m\u001b[1;33m,\u001b[0m\u001b[0mmode\u001b[0m \u001b[1;32min\u001b[0m \u001b[0mto_run\u001b[0m\u001b[1;33m:\u001b[0m\u001b[1;33m\u001b[0m\u001b[1;33m\u001b[0m\u001b[0m\n",
      "\u001b[0m\u001b[1;32m   3354 \u001b[1;33m                    \u001b[1;32mif\u001b[0m \u001b[0mmode\u001b[0m \u001b[1;33m==\u001b[0m \u001b[1;34m'exec'\u001b[0m\u001b[1;33m:\u001b[0m\u001b[1;33m\u001b[0m\u001b[1;33m\u001b[0m\u001b[0m\n",
      "\u001b[0m\u001b[1;32m   3355 \u001b[1;33m                        \u001b[0mmod\u001b[0m \u001b[1;33m=\u001b[0m \u001b[0mModule\u001b[0m\u001b[1;33m(\u001b[0m\u001b[1;33m[\u001b[0m\u001b[0mnode\u001b[0m\u001b[1;33m]\u001b[0m\u001b[1;33m,\u001b[0m \u001b[1;33m[\u001b[0m\u001b[1;33m]\u001b[0m\u001b[1;33m)\u001b[0m\u001b[1;33m\u001b[0m\u001b[1;33m\u001b[0m\u001b[0m\n",
      "\u001b[0m\n"
     ]
    },
    {
     "name": "stdout",
     "output_type": "stream",
     "text": [
      "ipdb> Q\n",
      "*** NameError: name 'Q' is not defined\n",
      "ipdb> start\n",
      "*** NameError: name 'start' is not defined\n",
      "ipdb> q\n"
     ]
    },
    {
     "ename": "BdbQuit",
     "evalue": "",
     "output_type": "error",
     "traceback": [
      "\u001b[1;31m---------------------------------------------------------------------------\u001b[0m",
      "\u001b[1;31mBdbQuit\u001b[0m                                   Traceback (most recent call last)",
      "\u001b[1;32md:\\python\\mainenv\\lib\\site-packages\\IPython\\core\\interactiveshell.py\u001b[0m in \u001b[0;36mrun_ast_nodes\u001b[1;34m(self, nodelist, cell_name, interactivity, compiler, result)\u001b[0m\n\u001b[0;32m   3351\u001b[0m                     \u001b[0mto_run\u001b[0m\u001b[1;33m.\u001b[0m\u001b[0mappend\u001b[0m\u001b[1;33m(\u001b[0m\u001b[1;33m(\u001b[0m\u001b[0mnode\u001b[0m\u001b[1;33m,\u001b[0m \u001b[1;34m'single'\u001b[0m\u001b[1;33m)\u001b[0m\u001b[1;33m)\u001b[0m\u001b[1;33m\u001b[0m\u001b[1;33m\u001b[0m\u001b[0m\n\u001b[0;32m   3352\u001b[0m \u001b[1;33m\u001b[0m\u001b[0m\n\u001b[1;32m-> 3353\u001b[1;33m                 \u001b[1;32mfor\u001b[0m \u001b[0mnode\u001b[0m\u001b[1;33m,\u001b[0m\u001b[0mmode\u001b[0m \u001b[1;32min\u001b[0m \u001b[0mto_run\u001b[0m\u001b[1;33m:\u001b[0m\u001b[1;33m\u001b[0m\u001b[1;33m\u001b[0m\u001b[0m\n\u001b[0m\u001b[0;32m   3354\u001b[0m                     \u001b[1;32mif\u001b[0m \u001b[0mmode\u001b[0m \u001b[1;33m==\u001b[0m \u001b[1;34m'exec'\u001b[0m\u001b[1;33m:\u001b[0m\u001b[1;33m\u001b[0m\u001b[1;33m\u001b[0m\u001b[0m\n\u001b[0;32m   3355\u001b[0m                         \u001b[0mmod\u001b[0m \u001b[1;33m=\u001b[0m \u001b[0mModule\u001b[0m\u001b[1;33m(\u001b[0m\u001b[1;33m[\u001b[0m\u001b[0mnode\u001b[0m\u001b[1;33m]\u001b[0m\u001b[1;33m,\u001b[0m \u001b[1;33m[\u001b[0m\u001b[1;33m]\u001b[0m\u001b[1;33m)\u001b[0m\u001b[1;33m\u001b[0m\u001b[1;33m\u001b[0m\u001b[0m\n",
      "\u001b[1;32mc:\\users\\prabhat mishra\\appdata\\local\\programs\\python\\python37\\lib\\bdb.py\u001b[0m in \u001b[0;36mtrace_dispatch\u001b[1;34m(self, frame, event, arg)\u001b[0m\n\u001b[0;32m     86\u001b[0m             \u001b[1;32mreturn\u001b[0m \u001b[1;31m# None\u001b[0m\u001b[1;33m\u001b[0m\u001b[1;33m\u001b[0m\u001b[0m\n\u001b[0;32m     87\u001b[0m         \u001b[1;32mif\u001b[0m \u001b[0mevent\u001b[0m \u001b[1;33m==\u001b[0m \u001b[1;34m'line'\u001b[0m\u001b[1;33m:\u001b[0m\u001b[1;33m\u001b[0m\u001b[1;33m\u001b[0m\u001b[0m\n\u001b[1;32m---> 88\u001b[1;33m             \u001b[1;32mreturn\u001b[0m \u001b[0mself\u001b[0m\u001b[1;33m.\u001b[0m\u001b[0mdispatch_line\u001b[0m\u001b[1;33m(\u001b[0m\u001b[0mframe\u001b[0m\u001b[1;33m)\u001b[0m\u001b[1;33m\u001b[0m\u001b[1;33m\u001b[0m\u001b[0m\n\u001b[0m\u001b[0;32m     89\u001b[0m         \u001b[1;32mif\u001b[0m \u001b[0mevent\u001b[0m \u001b[1;33m==\u001b[0m \u001b[1;34m'call'\u001b[0m\u001b[1;33m:\u001b[0m\u001b[1;33m\u001b[0m\u001b[1;33m\u001b[0m\u001b[0m\n\u001b[0;32m     90\u001b[0m             \u001b[1;32mreturn\u001b[0m \u001b[0mself\u001b[0m\u001b[1;33m.\u001b[0m\u001b[0mdispatch_call\u001b[0m\u001b[1;33m(\u001b[0m\u001b[0mframe\u001b[0m\u001b[1;33m,\u001b[0m \u001b[0marg\u001b[0m\u001b[1;33m)\u001b[0m\u001b[1;33m\u001b[0m\u001b[1;33m\u001b[0m\u001b[0m\n",
      "\u001b[1;32mc:\\users\\prabhat mishra\\appdata\\local\\programs\\python\\python37\\lib\\bdb.py\u001b[0m in \u001b[0;36mdispatch_line\u001b[1;34m(self, frame)\u001b[0m\n\u001b[0;32m    111\u001b[0m         \u001b[1;32mif\u001b[0m \u001b[0mself\u001b[0m\u001b[1;33m.\u001b[0m\u001b[0mstop_here\u001b[0m\u001b[1;33m(\u001b[0m\u001b[0mframe\u001b[0m\u001b[1;33m)\u001b[0m \u001b[1;32mor\u001b[0m \u001b[0mself\u001b[0m\u001b[1;33m.\u001b[0m\u001b[0mbreak_here\u001b[0m\u001b[1;33m(\u001b[0m\u001b[0mframe\u001b[0m\u001b[1;33m)\u001b[0m\u001b[1;33m:\u001b[0m\u001b[1;33m\u001b[0m\u001b[1;33m\u001b[0m\u001b[0m\n\u001b[0;32m    112\u001b[0m             \u001b[0mself\u001b[0m\u001b[1;33m.\u001b[0m\u001b[0muser_line\u001b[0m\u001b[1;33m(\u001b[0m\u001b[0mframe\u001b[0m\u001b[1;33m)\u001b[0m\u001b[1;33m\u001b[0m\u001b[1;33m\u001b[0m\u001b[0m\n\u001b[1;32m--> 113\u001b[1;33m             \u001b[1;32mif\u001b[0m \u001b[0mself\u001b[0m\u001b[1;33m.\u001b[0m\u001b[0mquitting\u001b[0m\u001b[1;33m:\u001b[0m \u001b[1;32mraise\u001b[0m \u001b[0mBdbQuit\u001b[0m\u001b[1;33m\u001b[0m\u001b[1;33m\u001b[0m\u001b[0m\n\u001b[0m\u001b[0;32m    114\u001b[0m         \u001b[1;32mreturn\u001b[0m \u001b[0mself\u001b[0m\u001b[1;33m.\u001b[0m\u001b[0mtrace_dispatch\u001b[0m\u001b[1;33m\u001b[0m\u001b[1;33m\u001b[0m\u001b[0m\n\u001b[0;32m    115\u001b[0m \u001b[1;33m\u001b[0m\u001b[0m\n",
      "\u001b[1;31mBdbQuit\u001b[0m: "
     ]
    }
   ],
   "source": [
    "breakpoint()\n",
    "fun1()\n",
    "# fun2()"
   ]
  },
  {
   "cell_type": "markdown",
   "id": "6b8c3e50",
   "metadata": {},
   "source": [
    "# generators in Python\n"
   ]
  },
  {
   "cell_type": "code",
   "execution_count": 113,
   "id": "da04d115",
   "metadata": {},
   "outputs": [],
   "source": [
    "## generate fibonacci numbers upto n\n",
    "def fib(n):\n",
    "    p, q = 0, 1\n",
    "    while(p < n):\n",
    "        yield p\n",
    "        p, q = q, p + q"
   ]
  },
  {
   "cell_type": "code",
   "execution_count": 114,
   "id": "f6a83d2a",
   "metadata": {},
   "outputs": [],
   "source": [
    "x = fib(10)"
   ]
  },
  {
   "cell_type": "code",
   "execution_count": 124,
   "id": "3109d9a5",
   "metadata": {},
   "outputs": [
    {
     "data": {
      "text/plain": [
       "[0, 1, 1, 2, 3, 5]"
      ]
     },
     "execution_count": 124,
     "metadata": {},
     "output_type": "execute_result"
    }
   ],
   "source": [
    "list(fib(6))"
   ]
  },
  {
   "cell_type": "code",
   "execution_count": null,
   "id": "e8b080cc",
   "metadata": {},
   "outputs": [],
   "source": [
    ") import re,urllib \n",
    "2) import urllib.request \n",
    "3) sites=\"google rediff\".split() \n",
    "4) print(sites) \n",
    "5) for s in sites: \n",
    "6) print(\"Searching...\",s) \n",
    "7) u=urllib.request.urlopen(\"http://\"+s+\".com\") \n",
    "8) text=u.read()  title=re.findall(\"<title>.*</title>\",str(text),re.I) \n",
    " print(title[0])"
   ]
  }
 ],
 "metadata": {
  "kernelspec": {
   "display_name": "Python 3 (ipykernel)",
   "language": "python",
   "name": "python3"
  },
  "language_info": {
   "codemirror_mode": {
    "name": "ipython",
    "version": 3
   },
   "file_extension": ".py",
   "mimetype": "text/x-python",
   "name": "python",
   "nbconvert_exporter": "python",
   "pygments_lexer": "ipython3",
   "version": "3.7.9"
  }
 },
 "nbformat": 4,
 "nbformat_minor": 5
}
