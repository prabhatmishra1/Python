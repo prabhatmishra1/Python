{
 "cells": [
  {
   "cell_type": "code",
   "execution_count": 40,
   "id": "454b4da2",
   "metadata": {},
   "outputs": [],
   "source": [
    "# importing required modules\n",
    "import PyPDF2\n",
    "# creating a pdf reader object\n",
    "pdfReader = PyPDF2.PdfFileReader('oldhighway.pdf')"
   ]
  },
  {
   "cell_type": "code",
   "execution_count": 41,
   "id": "098f4796",
   "metadata": {},
   "outputs": [
    {
     "name": "stdout",
     "output_type": "stream",
     "text": [
      "54\n"
     ]
    }
   ],
   "source": [
    "# printing number of pages in pdf file\n",
    "print(pdfReader.numPages)"
   ]
  },
  {
   "cell_type": "code",
   "execution_count": 42,
   "id": "946c73c2",
   "metadata": {},
   "outputs": [
    {
     "name": "stdout",
     "output_type": "stream",
     "text": [
      "{'/Producer': 'iTextSharp™ 5.5.12 ©2000-2017 iText Group NV (AGPL-version); modified using iTextSharp™ 5.5.12 ©2000-2017 iText Group NV (AGPL-version)', '/CreationDate': \"D:20200523085022-05'00'\", '/ModDate': \"D:20200523085023-05'00'\"}\n"
     ]
    }
   ],
   "source": [
    "#printing the document info\n",
    "print(pdfReader.documentInfo)"
   ]
  },
  {
   "cell_type": "code",
   "execution_count": 43,
   "id": "099ac539",
   "metadata": {},
   "outputs": [
    {
     "name": "stdout",
     "output_type": "stream",
     "text": [
      "False\n"
     ]
    }
   ],
   "source": [
    "print(pdfReader.isEncrypted)"
   ]
  },
  {
   "cell_type": "code",
   "execution_count": 62,
   "id": "e9458ca9",
   "metadata": {},
   "outputs": [
    {
     "ename": "AttributeError",
     "evalue": "'ArrayObject' object has no attribute 'getData'",
     "output_type": "error",
     "traceback": [
      "\u001b[1;31m---------------------------------------------------------------------------\u001b[0m",
      "\u001b[1;31mAttributeError\u001b[0m                            Traceback (most recent call last)",
      "\u001b[1;32mC:\\Users\\PRABHA~1\\AppData\\Local\\Temp/ipykernel_19924/1321117252.py\u001b[0m in \u001b[0;36m<module>\u001b[1;34m\u001b[0m\n\u001b[0;32m      1\u001b[0m \u001b[0md\u001b[0m\u001b[1;33m=\u001b[0m\u001b[0mpdfReader\u001b[0m\u001b[1;33m.\u001b[0m\u001b[0mgetPage\u001b[0m\u001b[1;33m(\u001b[0m\u001b[1;36m0\u001b[0m\u001b[1;33m)\u001b[0m\u001b[1;33m\u001b[0m\u001b[1;33m\u001b[0m\u001b[0m\n\u001b[1;32m----> 2\u001b[1;33m \u001b[0mprint\u001b[0m\u001b[1;33m(\u001b[0m\u001b[0md\u001b[0m\u001b[1;33m[\u001b[0m\u001b[1;34m'/Contents'\u001b[0m\u001b[1;33m]\u001b[0m\u001b[1;33m.\u001b[0m\u001b[0mgetData\u001b[0m\u001b[1;33m(\u001b[0m\u001b[1;33m)\u001b[0m\u001b[1;33m)\u001b[0m\u001b[1;33m\u001b[0m\u001b[1;33m\u001b[0m\u001b[0m\n\u001b[0m",
      "\u001b[1;31mAttributeError\u001b[0m: 'ArrayObject' object has no attribute 'getData'"
     ]
    }
   ],
   "source": [
    "d=pdfReader.getPage(0)\n",
    "print(d['/Contents'].getData())"
   ]
  },
  {
   "cell_type": "code",
   "execution_count": 48,
   "id": "d8fb303f",
   "metadata": {},
   "outputs": [
    {
     "name": "stdout",
     "output_type": "stream",
     "text": [
      "{'/Type': '/Page', '/Contents': [IndirectObject(21, 0), IndirectObject(376, 0), IndirectObject(22, 0)], '/Resources': {'/ProcSet': ['/PDF', '/Text', '/ImageC'], '/Font': {'/F14': IndirectObject(241, 0), '/F15': IndirectObject(242, 0), '/F16': IndirectObject(243, 0), '/F17': IndirectObject(244, 0), '/F18': IndirectObject(245, 0), '/F19': IndirectObject(246, 0), '/Xi9': IndirectObject(1, 0)}, '/XObject': {'/I0': IndirectObject(247, 0), '/I1': IndirectObject(248, 0), '/I2': IndirectObject(249, 0), '/I3': IndirectObject(250, 0), '/I4': IndirectObject(251, 0), '/I5': IndirectObject(252, 0), '/I6': IndirectObject(253, 0), '/I7': IndirectObject(254, 0), '/I8': IndirectObject(255, 0), '/I9': IndirectObject(256, 0), '/I10': IndirectObject(257, 0), '/I11': IndirectObject(258, 0), '/I12': IndirectObject(259, 0), '/I13': IndirectObject(260, 0), '/I14': IndirectObject(261, 0), '/I15': IndirectObject(262, 0), '/I16': IndirectObject(263, 0), '/I17': IndirectObject(264, 0), '/I18': IndirectObject(265, 0), '/I19': IndirectObject(266, 0), '/I20': IndirectObject(267, 0), '/I21': IndirectObject(268, 0), '/I22': IndirectObject(269, 0), '/I23': IndirectObject(270, 0), '/I24': IndirectObject(271, 0), '/I25': IndirectObject(272, 0), '/I26': IndirectObject(273, 0), '/I27': IndirectObject(274, 0), '/I28': IndirectObject(275, 0), '/I29': IndirectObject(276, 0), '/I30': IndirectObject(277, 0), '/I31': IndirectObject(278, 0), '/I32': IndirectObject(279, 0), '/I33': IndirectObject(280, 0), '/I34': IndirectObject(281, 0), '/I35': IndirectObject(282, 0), '/I36': IndirectObject(283, 0), '/I37': IndirectObject(284, 0), '/I38': IndirectObject(285, 0), '/I39': IndirectObject(286, 0), '/I40': IndirectObject(287, 0), '/I41': IndirectObject(288, 0), '/I42': IndirectObject(289, 0), '/I43': IndirectObject(290, 0), '/I44': IndirectObject(291, 0), '/I45': IndirectObject(292, 0), '/I46': IndirectObject(293, 0), '/I47': IndirectObject(294, 0), '/I48': IndirectObject(295, 0), '/I49': IndirectObject(296, 0), '/I50': IndirectObject(297, 0), '/I51': IndirectObject(298, 0), '/I52': IndirectObject(299, 0), '/I53': IndirectObject(300, 0), '/I54': IndirectObject(301, 0), '/I55': IndirectObject(302, 0), '/I56': IndirectObject(303, 0), '/I57': IndirectObject(304, 0), '/I58': IndirectObject(305, 0), '/I59': IndirectObject(306, 0), '/I60': IndirectObject(307, 0), '/I61': IndirectObject(308, 0), '/I62': IndirectObject(309, 0), '/I63': IndirectObject(310, 0), '/I64': IndirectObject(311, 0), '/I65': IndirectObject(312, 0), '/I66': IndirectObject(313, 0), '/I67': IndirectObject(314, 0), '/I68': IndirectObject(315, 0), '/I69': IndirectObject(316, 0), '/I70': IndirectObject(317, 0), '/I71': IndirectObject(318, 0), '/I72': IndirectObject(319, 0), '/I73': IndirectObject(320, 0), '/I74': IndirectObject(321, 0), '/I75': IndirectObject(322, 0), '/I76': IndirectObject(323, 0), '/I77': IndirectObject(324, 0), '/I78': IndirectObject(325, 0), '/I79': IndirectObject(326, 0), '/I80': IndirectObject(327, 0), '/I81': IndirectObject(328, 0), '/I82': IndirectObject(329, 0), '/I83': IndirectObject(330, 0), '/I84': IndirectObject(331, 0), '/I85': IndirectObject(332, 0), '/I86': IndirectObject(333, 0), '/I87': IndirectObject(334, 0), '/I88': IndirectObject(335, 0), '/I89': IndirectObject(336, 0), '/I90': IndirectObject(337, 0), '/I91': IndirectObject(338, 0), '/I92': IndirectObject(339, 0), '/I93': IndirectObject(340, 0), '/I94': IndirectObject(341, 0), '/I95': IndirectObject(342, 0), '/I96': IndirectObject(343, 0), '/I97': IndirectObject(344, 0), '/I98': IndirectObject(345, 0), '/I99': IndirectObject(346, 0), '/I100': IndirectObject(347, 0), '/I101': IndirectObject(348, 0), '/I102': IndirectObject(349, 0)}}, '/MediaBox': [0, 0, 612, 792], '/Parent': IndirectObject(120, 0)}\n"
     ]
    }
   ],
   "source": [
    "# creating a page object\n",
    "pageObj = pdfReader.getPage(9)\n",
    "\n",
    "print(pageObj)"
   ]
  },
  {
   "cell_type": "code",
   "execution_count": 64,
   "id": "580e4dea",
   "metadata": {
    "scrolled": false
   },
   "outputs": [
    {
     "ename": "AttributeError",
     "evalue": "'str' object has no attribute 'decode'",
     "output_type": "error",
     "traceback": [
      "\u001b[1;31m---------------------------------------------------------------------------\u001b[0m",
      "\u001b[1;31mAttributeError\u001b[0m                            Traceback (most recent call last)",
      "\u001b[1;32mC:\\Users\\PRABHA~1\\AppData\\Local\\Temp/ipykernel_19924/1991169264.py\u001b[0m in \u001b[0;36m<module>\u001b[1;34m\u001b[0m\n\u001b[0;32m      1\u001b[0m \u001b[1;31m# extracting text from page\u001b[0m\u001b[1;33m\u001b[0m\u001b[1;33m\u001b[0m\u001b[1;33m\u001b[0m\u001b[0m\n\u001b[1;32m----> 2\u001b[1;33m \u001b[0mprint\u001b[0m\u001b[1;33m(\u001b[0m\u001b[0mpageObj\u001b[0m\u001b[1;33m.\u001b[0m\u001b[0mextractText\u001b[0m\u001b[1;33m(\u001b[0m\u001b[1;33m)\u001b[0m\u001b[1;33m.\u001b[0m\u001b[0mdecode\u001b[0m\u001b[1;33m(\u001b[0m\u001b[1;34m'utf-8'\u001b[0m\u001b[1;33m)\u001b[0m\u001b[1;33m)\u001b[0m\u001b[1;33m\u001b[0m\u001b[1;33m\u001b[0m\u001b[0m\n\u001b[0m",
      "\u001b[1;31mAttributeError\u001b[0m: 'str' object has no attribute 'decode'"
     ]
    }
   ],
   "source": [
    "# extracting text from page\n",
    "print(pageObj.extractText().decode('utf-8'))"
   ]
  },
  {
   "cell_type": "code",
   "execution_count": 65,
   "id": "ffe2803b",
   "metadata": {},
   "outputs": [
    {
     "name": "stdout",
     "output_type": "stream",
     "text": [
      "\n",
      "\n",
      "\n",
      "\n",
      "\n",
      "\n",
      "\n",
      "\n",
      "\n",
      "\n",
      "\n",
      "\n",
      "\n",
      "\n",
      "\n",
      "\n",
      "\n",
      "\n",
      "\n",
      "\n",
      "\n",
      "\n",
      "\n",
      "\n",
      "\n",
      "Page 10 of 54\n"
     ]
    }
   ],
   "source": [
    "print(pageObj.extractText())"
   ]
  },
  {
   "cell_type": "code",
   "execution_count": 7,
   "id": "45a7cb5c",
   "metadata": {},
   "outputs": [],
   "source": [
    "import fitz"
   ]
  },
  {
   "cell_type": "code",
   "execution_count": 8,
   "id": "181e8c55",
   "metadata": {},
   "outputs": [],
   "source": [
    "file = fitz.open('oldhighway.pdf')"
   ]
  },
  {
   "cell_type": "code",
   "execution_count": null,
   "id": "edf3362c",
   "metadata": {
    "scrolled": true
   },
   "outputs": [],
   "source": [
    "for pagenumber , page in enumerate(file.pages(), start = 1 ):\n",
    "    for imgNumber, img in enumerate(page.getImageList(), start=1):\n",
    "        xref = img[0]\n",
    "        pix = fitz.Pixmap(file,xref)\n",
    "        if pix.n > 4:\n",
    "            pix = fitz.Pixmap(fitz.csRGB, pix)\n",
    "        pix.writePNG(f'image_Page{pagenumber}_{imgNumber}.png')    "
   ]
  },
  {
   "cell_type": "code",
   "execution_count": null,
   "id": "b405772f",
   "metadata": {},
   "outputs": [],
   "source": []
  }
 ],
 "metadata": {
  "kernelspec": {
   "display_name": "Python 3 (ipykernel)",
   "language": "python",
   "name": "python3"
  },
  "language_info": {
   "codemirror_mode": {
    "name": "ipython",
    "version": 3
   },
   "file_extension": ".py",
   "mimetype": "text/x-python",
   "name": "python",
   "nbconvert_exporter": "python",
   "pygments_lexer": "ipython3",
   "version": "3.7.9"
  }
 },
 "nbformat": 4,
 "nbformat_minor": 5
}
