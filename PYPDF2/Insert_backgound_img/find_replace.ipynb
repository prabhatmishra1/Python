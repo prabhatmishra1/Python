{
 "cells": [
  {
   "cell_type": "code",
   "execution_count": 123,
   "id": "600aed6b",
   "metadata": {},
   "outputs": [],
   "source": [
    "import fitz\n",
    "import pathlib\n",
    "import os\n",
    "\n",
    "# Get current file path\n",
    "__file__ = 'find_replace.ipynb'\n",
    "current_path = pathlib.Path(__file__).parent.absolute()\n",
    "\n",
    "# define input and outputpath\n",
    "pdf_list = ['TEST PDF INPUT TEMPLATE.pdf', '3_giberish template.pdf', '4_giberish template.pdf','strings and tables.pdf']\n",
    "input_file = os.path.join(current_path, 'input', pdf_list[3])\n",
    "output_filename = 'result1.pdf'\n",
    "output_file_path = os.path.join(current_path, 'output', output_filename)\n",
    "\n",
    "REPLACEMENT_LIST = [\n",
    "    #input for TEST PDF INPUT TEMPLATE.pdf\n",
    "     {'{FULL NAME}': 'Prabahat','{number1}': '1234567890','{number2}': 'AA123456','{date11111}': '17/12/2021'},\n",
    "    #input for 4_giberish template.pdf\n",
    "     {'FULLNAME}': 'JLKSD', '{PASSPORT}': 'JFDSKLFHSDLK', '{GENDER}': 'Male', '{DATE3}': '20.09.2021', '{DATE1}': '20.09.2021','{DATE4}': '20.09.2020', '{DATE2}': '20.09.2021', '{DOB}': '14','{FILEN}': '10843', '{SOMENR}':'SOME','{ANR}':'ANR'},\n",
    "    #input for 3_giberish template.pdf\n",
    "     {'{str1}': 'XXX', '{str2}': 'xxx', '{str3}': 'xxx', '{str4}': 'xxx', '{str5}': 'xxx', '{DATE2}': '12.04.1197'},\n",
    "    #input for string and tables.pdf\n",
    "     {'{28698}': '289023', '{06092021}': '2692121', '{01SSS}': '01CCC','{23456890}': '23456890', '{759478229}': '759478221', '{74293047892374827427}': '94293047892374827420', '{02DD}': '02DD', '{47209748239084791749111}':'4720974823908479174', '{STR3438294}':'STR34', '{STR3553}': 'STR3'}\n",
    "\n",
    "]\n",
    "\n",
    "# This is just for example to pass images accroding to pdf\n",
    "REPLACEMENT_DICT = REPLACEMENT_LIST[3] \n",
    "\n",
    "# DEFINE COLORS\n",
    "white = (1, 1, 1)\n",
    "black = (0, 0, 0)\n",
    "blue = (0, 0, 0.6)"
   ]
  },
  {
   "cell_type": "code",
   "execution_count": 130,
   "id": "7cff15b0",
   "metadata": {},
   "outputs": [
    {
     "name": "stdout",
     "output_type": "stream",
     "text": [
      "{'format': 'PDF 1.7', 'title': 'Результаты исследований', 'author': '', 'subject': '', 'keywords': '', 'creator': 'Adobe Illustrator CC 23.1 (Macintosh)(Infix Pro)', 'producer': 'cairo 1.16.0 (https://cairographics.org)', 'creationDate': \"D:20210702223419+03'00'\", 'modDate': 'D:20211118163640', 'trapped': '', 'encryption': None}\n"
     ]
    }
   ],
   "source": [
    "doc = fitz.open(input_file)\n",
    "print(doc.metadata) \n",
    "#open page one by one\n",
    "for page in doc:\n",
    "\n",
    "    # get page info\n",
    "    # print(page.get_texttrace())\n",
    "\n",
    "    from fitz.fitz import TEXT_ALIGN_CENTER, TEXT_ALIGN_RIGHT\n",
    "    # search for text in dict\n",
    "    for rep_key, rep_value in REPLACEMENT_DICT.items():\n",
    "        text_instances = page.searchFor(rep_key)\n",
    "        for inst in text_instances:\n",
    "        #   Get text color, font and size here\n",
    "            text_info = page.get_text('dict', clip=inst)['blocks'][0]['lines'][0]['spans'][0]\n",
    "            text_info_dict = {\n",
    "                'fontsize': text_info.get('size',12),\n",
    "                'border_width':10,\n",
    "                'color':fitz.sRGB_to_pdf(text_info.get('color', black)),\n",
    "                 'align': TEXT_ALIGN_RIGHT\n",
    "\n",
    "            }\n",
    "\n",
    "            rect = fitz.Rect(inst.x0-fitz.getTextlength(rep_value)/5, inst.y0+2, inst.x1, inst.y1+2)\n",
    "            annot = page.addRedactAnnot(rect)\n",
    "            # if you want to make sure to keep overlapping images:\n",
    "            page.apply_redactions(images=fitz.PDF_REDACT_IMAGE_REMOVE)\n",
    "            page.insert_textbox(rect, rep_value, **text_info_dict)\n",
    "    \n",
    "#   replace the images\n",
    "#   grabic_3doc.pdf  replace_image_dict = {'Im1':'1.png', 'Im2':'3.png', 'Im3':'bar.png', 'Im4':'QR.jpg', 'Im0':'5.png'}\n",
    "    replace_image_dict = {'Im1':'QR.jpg', 'Im2': 'mainqr.png'}\n",
    "    ImageList = sorted(page.get_images(full=True))\n",
    "    for img in ImageList:\n",
    "        if img[7] in replace_image_dict:\n",
    "            img_rect = page.getImageBbox(img)\n",
    "            page.addRedactAnnot(rect, text=\" \")\n",
    "            page.apply_redactions(images=fitz.PDF_REDACT_IMAGE_REMOVE)\n",
    "            replace_image_path = os.path.join(current_path, 'assets', replace_image_dict[img[7]])\n",
    "            page.insertImage(img_rect, filename=replace_image_path)\n",
    "        "
   ]
  },
  {
   "cell_type": "code",
   "execution_count": 128,
   "id": "25c9150b",
   "metadata": {},
   "outputs": [
    {
     "name": "stdout",
     "output_type": "stream",
     "text": [
      "Rect(0.0, 0.0, 841.0, 595.0)\n"
     ]
    },
    {
     "data": {
      "text/plain": [
       "1142"
      ]
     },
     "execution_count": 128,
     "metadata": {},
     "output_type": "execute_result"
    }
   ],
   "source": [
    "print(page.rect)\n",
    "#  change background image\n",
    "background_img_filename = 'raw background.png'\n",
    "background_img_path = os.path.join(current_path, 'assets', background_img_filename)\n",
    "\n",
    "# insert background image to the full page\n",
    "# full_img_rect = fitz.Rect(0,0,page.rect)\n",
    "# page.add_redact_annot(full_img_rect)\n",
    "# page.apply_redactions(images=fitz.PDF_REDACT_IMAGE_NONE)\n",
    "page.insertImage(page.rect, filename=background_img_path, overlay=False, alpha=100, keep_proportion=False)\n"
   ]
  },
  {
   "cell_type": "code",
   "execution_count": 129,
   "id": "57b942ed",
   "metadata": {},
   "outputs": [
    {
     "name": "stdout",
     "output_type": "stream",
     "text": [
      "completed>>>>>\n"
     ]
    }
   ],
   "source": [
    "# save doc\n",
    "doc.save(output_file_path, garbage=4, deflate=True, clean=True)\n",
    "print(\"completed>>>>>\")\n"
   ]
  },
  {
   "cell_type": "code",
   "execution_count": null,
   "id": "8dd2c45c",
   "metadata": {},
   "outputs": [],
   "source": []
  },
  {
   "cell_type": "code",
   "execution_count": null,
   "id": "5be6a127",
   "metadata": {},
   "outputs": [],
   "source": []
  }
 ],
 "metadata": {
  "kernelspec": {
   "display_name": "Python 3 (ipykernel)",
   "language": "python",
   "name": "python3"
  },
  "language_info": {
   "codemirror_mode": {
    "name": "ipython",
    "version": 3
   },
   "file_extension": ".py",
   "mimetype": "text/x-python",
   "name": "python",
   "nbconvert_exporter": "python",
   "pygments_lexer": "ipython3",
   "version": "3.7.9"
  }
 },
 "nbformat": 4,
 "nbformat_minor": 5
}
